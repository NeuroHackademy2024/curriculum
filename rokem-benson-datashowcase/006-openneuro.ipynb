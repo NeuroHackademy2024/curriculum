{
 "cells": [
  {
   "cell_type": "markdown",
   "id": "7c6c047b-864c-4cac-bb70-3d66268fdb0f",
   "metadata": {},
   "source": [
    "# Datasets on OpenNeuro.org\n",
    "\n",
    "There are many datasets on [OpenNeuro](https://openneuro.org/)! Each dataset has a unique identifier such as `ds003787` that can be found by searching the OpenNeuro website. All of OpenNeuro is in BIDS format and is available in Amazon's S3, in the `openneuro.org` S3 bucket."
   ]
  },
  {
   "cell_type": "code",
   "execution_count": null,
   "id": "20772daa-dede-4298-9fe6-d6f91d1ea343",
   "metadata": {
    "tags": []
   },
   "outputs": [],
   "source": [
    "from cloudpathlib import S3Path, S3Client\n",
    "from pathlib import Path\n",
    "\n",
    "# Set up our cache path:\n",
    "cache_path = Path('/tmp/cache')\n",
    "if not cache_path.exists():\n",
    "    cache_path.mkdir()\n",
    "\n",
    "# Create the root S3Path for the NYU Retinotopy Dataset:\n",
    "nyu_base_path = S3Path(\n",
    "    's3://openneuro.org/ds003787/',\n",
    "    client=S3Client(\n",
    "        no_sign_request=True,\n",
    "        local_cache_dir=cache_path))"
   ]
  },
  {
   "cell_type": "code",
   "execution_count": null,
   "id": "6fa90c39-b42e-4b77-a647-956c2478471b",
   "metadata": {
    "tags": []
   },
   "outputs": [],
   "source": [
    "# Let's see if it looks like a BIDS dataset!\n",
    "\n",
    "from utilities import ls\n",
    "\n",
    "ls(nyu_base_path)"
   ]
  },
  {
   "cell_type": "code",
   "execution_count": null,
   "id": "db7c6da7-59ed-4f99-93e8-94cf89d9f324",
   "metadata": {
    "tags": []
   },
   "outputs": [],
   "source": [
    "# Let's look at the participants!\n",
    "import pandas as pd\n",
    "\n",
    "pd.read_csv((nyu_base_path / 'participants.tsv'), sep='\\t')"
   ]
  },
  {
   "cell_type": "markdown",
   "id": "27c38f40-8a63-4563-9527-00d18a8d5162",
   "metadata": {},
   "source": [
    "## Loading a subject using FreeSurfer and neuropythy"
   ]
  },
  {
   "cell_type": "code",
   "execution_count": null,
   "id": "beea2b00-ec81-4bae-a586-f39de1b661ee",
   "metadata": {
    "tags": []
   },
   "outputs": [],
   "source": [
    "# Import neuropythy\n",
    "import neuropythy as ny\n",
    "\n",
    "# Tell neuropythy where we want to keep cache data.\n",
    "ny.config['data_cache_root'] = '/tmp/cache'"
   ]
  },
  {
   "cell_type": "code",
   "execution_count": null,
   "id": "b474f9cf-77ae-40cf-9595-e3328f8a8e81",
   "metadata": {
    "tags": []
   },
   "outputs": [],
   "source": [
    "# Ask neuropythy to load a FreeSurfer subject:\n",
    "sub = ny.freesurfer_subject(\n",
    "    's3://openneuro.org/ds003787/derivatives/freesurfer/sub-wlsubj042')"
   ]
  },
  {
   "cell_type": "code",
   "execution_count": null,
   "id": "83c94b2b-b3f0-4fa3-a0ae-92b0ab397078",
   "metadata": {
    "tags": []
   },
   "outputs": [],
   "source": [
    "ny.cortex_plot((sub.lh, sub.rh), surface='white')"
   ]
  }
 ],
 "metadata": {
  "kernelspec": {
   "display_name": "Python 3 (ipykernel)",
   "language": "python",
   "name": "python3"
  },
  "language_info": {
   "codemirror_mode": {
    "name": "ipython",
    "version": 3
   },
   "file_extension": ".py",
   "mimetype": "text/x-python",
   "name": "python",
   "nbconvert_exporter": "python",
   "pygments_lexer": "ipython3",
   "version": "3.10.14"
  }
 },
 "nbformat": 4,
 "nbformat_minor": 5
}
