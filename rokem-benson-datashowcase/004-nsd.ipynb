{
 "cells": [
  {
   "cell_type": "markdown",
   "id": "4de58e61-7d8d-4642-9204-1e876d8a457b",
   "metadata": {},
   "source": [
    "# The Natural Scenes Dataset (NSD)\n",
    "\n",
    "From [naturalscenesdataset.org](https://naturalscenesdataset.org):\n",
    "```text\n",
    "The Natural Scenes Dataset (NSD) is a large-scale fMRI dataset conducted at ultra-high-field (7T) strength at the Center of Magnetic Resonance Research (CMRR) at the University of Minnesota. The dataset consists of whole-brain, high-resolution (1.8-mm isotropic, 1.6-s sampling rate) fMRI measurements of 8 healthy adult subjects while they viewed thousands of color natural scenes over the course of 30–40 scan sessions. While viewing these images, subjects were engaged in a continuous recognition task in which they reported whether they had seen each given image at any point in the experiment. These data constitute a massive benchmark dataset for computational models of visual representation and cognition, and can support a wide range of scientific inquiry.\n",
    "```\n",
    "\n",
    "The NSD was spear-headed by Kendrick Kay at the University of Minnesota, and is one of the best datasets for examining in-depth visual function due to the large quantity of scan time for each participant.\n",
    "\n",
    "The NSD is hosted on Amazon S3, so we will access it using the `S3Path` and `S3Client` interface of `cloudpathlib`. The NSD does not require authentication for access, so we do not need to load or name our credentials."
   ]
  },
  {
   "cell_type": "code",
   "execution_count": null,
   "id": "c353df5b-fc8e-4a05-9269-08c39658ea67",
   "metadata": {
    "tags": []
   },
   "outputs": [],
   "source": [
    "from cloudpathlib import S3Path, S3Client\n",
    "from pathlib import Path\n",
    "\n",
    "# Set up our cache path:\n",
    "cache_path = Path('/tmp/cache')\n",
    "if not cache_path.exists():\n",
    "    cache_path.mkdir()\n",
    "\n",
    "# Create the root S3Path for the NSD:\n",
    "nsd_base_path = S3Path(\n",
    "    's3://natural-scenes-dataset/',\n",
    "    client=S3Client(\n",
    "        no_sign_request=True,\n",
    "        local_cache_dir=cache_path))"
   ]
  },
  {
   "cell_type": "markdown",
   "id": "4304e5be-b768-4902-90a1-f8b0d23dda87",
   "metadata": {},
   "source": [
    "Let's look around inside of the NSD S3 bucket..."
   ]
  },
  {
   "cell_type": "code",
   "execution_count": null,
   "id": "4a85564f-b34f-4bea-8acd-9312c736392b",
   "metadata": {
    "tags": []
   },
   "outputs": [],
   "source": [
    "from utilities import ls, crawl\n",
    "\n",
    "ls(nsd_base_path)"
   ]
  },
  {
   "cell_type": "code",
   "execution_count": null,
   "id": "6e8294bb-1a57-4a82-b964-16cb5f1cfcf8",
   "metadata": {
    "tags": []
   },
   "outputs": [],
   "source": [
    "ls(nsd_base_path / 'nsddata' / 'freesurfer')"
   ]
  },
  {
   "cell_type": "code",
   "execution_count": null,
   "id": "639b8f84-b8a3-4b19-b4e7-81667327e77c",
   "metadata": {
    "tags": []
   },
   "outputs": [],
   "source": [
    "ls(nsd_base_path / 'nsddata' / 'ppdata' / 'subj01' / 'func1pt8mm')"
   ]
  },
  {
   "cell_type": "markdown",
   "id": "a35b77e3-8a30-45f0-8001-1c2aec5a4fd3",
   "metadata": {},
   "source": [
    "## Loading an NSD file: The Coefficient of Determination (or Variance Explained)\n",
    "\n",
    "We can load a nifti file from the NSD using the cloudpath object, and cloudpath's ability to convert a cloudpath into a local filepath (by using `cloud_path_object.fspath`). The NSD is not in BIDS format, but its data are organized relatively intuitively. The directory `ppdata` in particular holeds the preprocessed data for the subjects. Here we will extract the coefficient of determination (also called the r-squared or the percentage of variance explained) of the population receptive field (PRF) models for subject 1."
   ]
  },
  {
   "cell_type": "code",
   "execution_count": null,
   "id": "8cb2b3e7-369b-4c85-9ba1-c1ec0835458e",
   "metadata": {
    "tags": []
   },
   "outputs": [],
   "source": [
    "import nibabel as nib\n",
    "\n",
    "nsd_pppath = nsd_base_path / 'nsddata' / 'ppdata'\n",
    "cod_filename = nsd_pppath / 'subj01' / 'func1pt8mm' / 'prf_R2.nii.gz'\n",
    "cod = nib.load(cod_filename.fspath)\n",
    "cod.shape"
   ]
  },
  {
   "cell_type": "code",
   "execution_count": null,
   "id": "7d87d936-377a-4727-a8c7-ed56e0dd9783",
   "metadata": {
    "tags": []
   },
   "outputs": [],
   "source": [
    "# Once we have loaded the CoD as a nifti object, we can plot it using matplotlib.\n",
    "\n",
    "import matplotlib.pyplot as plt\n",
    "\n",
    "plt.imshow(cod.dataobj[:,:,40], vmin=0, vmax=100, cmap='hot')"
   ]
  },
  {
   "cell_type": "markdown",
   "id": "13b22dce-c8d1-4e9c-8e5b-6ab5ab52e044",
   "metadata": {},
   "source": [
    "### Loading Subjects using neuropythy\n",
    "\n",
    "Because the NSD is on S3, neuropythy can also access it and load FreeSurfer subjects from it. To do this, we can simply direct neuropythy to the S3 FreeSurfer subject directory (note that this will not share cache with the `cloudpathlib` library)."
   ]
  },
  {
   "cell_type": "code",
   "execution_count": null,
   "id": "f2b739cb-29be-4502-b21d-a6b2b6710a6a",
   "metadata": {
    "tags": []
   },
   "outputs": [],
   "source": [
    "# Import neuropythy\n",
    "import neuropythy as ny\n",
    "\n",
    "# Tell neuropythy where we want to keep cache data.\n",
    "ny.config['data_cache_root'] = '/tmp/cache'"
   ]
  },
  {
   "cell_type": "code",
   "execution_count": null,
   "id": "4f84bc69-2903-4841-b44a-97bae91090dc",
   "metadata": {
    "tags": []
   },
   "outputs": [],
   "source": [
    "# Where is the FreeSurfer data for a subject?\n",
    "\n",
    "ls(nsd_base_path / 'nsddata' / 'freesurfer' / 'subj01')"
   ]
  },
  {
   "cell_type": "code",
   "execution_count": null,
   "id": "8e0043cc-4eed-4258-80f4-8cd8a081af03",
   "metadata": {
    "tags": []
   },
   "outputs": [],
   "source": [
    "# Ask neuropythy to load a FreeSurfer subject:\n",
    "sub = ny.freesurfer_subject(\n",
    "    's3://natural-scenes-dataset/nsddata/freesurfer/subj01')"
   ]
  },
  {
   "cell_type": "code",
   "execution_count": null,
   "id": "195a25cb-d982-4d1a-a8aa-9dc1fc19b757",
   "metadata": {
    "tags": []
   },
   "outputs": [],
   "source": [
    "# Have neuropythy plot this subject:\n",
    "ny.cortex_plot((sub.lh, sub.rh), surface='white')"
   ]
  }
 ],
 "metadata": {
  "kernelspec": {
   "display_name": "Python 3 (ipykernel)",
   "language": "python",
   "name": "python3"
  },
  "language_info": {
   "codemirror_mode": {
    "name": "ipython",
    "version": 3
   },
   "file_extension": ".py",
   "mimetype": "text/x-python",
   "name": "python",
   "nbconvert_exporter": "python",
   "pygments_lexer": "ipython3",
   "version": "3.10.14"
  }
 },
 "nbformat": 4,
 "nbformat_minor": 5
}
