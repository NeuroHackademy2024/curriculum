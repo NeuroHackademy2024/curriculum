{
 "cells": [
  {
   "cell_type": "code",
   "execution_count": 1,
   "metadata": {},
   "outputs": [],
   "source": [
    "\"\"\"\n",
    "==================================\n",
    "Basis Profile Curve (BPC) analysis\n",
    "==================================\n",
    "\n",
    "In this example, we will show how to use basis profile curve (BPC)\n",
    "analysis to quantify the shapes and strengths of connectivity from\n",
    "electrical stimulation sites to a recording site.\n",
    "\n",
    "To do: format citation  https://doi.org/10.1101/2021.01.24.428020\n",
    "\"\"\"\n",
    "# Authors: Alex Rockhill <aprockhill@mailbox.org>\n",
    "#          Dora Hermes\n",
    "#\n",
    "# License: BSD-3-Clause\n",
    "\n",
    "from pathlib import Path\n",
    "import numpy as np\n",
    "\n",
    "import mne\n",
    "import mne_bids\n",
    "\n",
    "import pandas as pd\n",
    "import matplotlib.pyplot as plt\n",
    "import matplotlib.cm as cm\n",
    "from sklearn.decomposition import NMF\n",
    "from scipy import stats"
   ]
  },
  {
   "cell_type": "code",
   "execution_count": 2,
   "metadata": {},
   "outputs": [],
   "source": [
    "# First, download the dataset.\n",
    "dataset = 'ds003708'\n",
    "root = Path('/') / 'home' / 'jovyan' / 'shared' / dataset\n",
    "# DO NOT RUN: THIS IS HERE JUST TO SHOW YOU HOW THE DATA WAS DOWNLOADED \n",
    "# import openneuro\n",
    "# openneuro.download(dataset=dataset, target_dir=root)"
   ]
  },
  {
   "cell_type": "code",
   "execution_count": 10,
   "metadata": {},
   "outputs": [
    {
     "data": {
      "text/plain": [
       "\u001b[0;31mInit signature:\u001b[0m\n",
       "\u001b[0mmne_bids\u001b[0m\u001b[0;34m.\u001b[0m\u001b[0mBIDSPath\u001b[0m\u001b[0;34m(\u001b[0m\u001b[0;34m\u001b[0m\n",
       "\u001b[0;34m\u001b[0m    \u001b[0msubject\u001b[0m\u001b[0;34m=\u001b[0m\u001b[0;32mNone\u001b[0m\u001b[0;34m,\u001b[0m\u001b[0;34m\u001b[0m\n",
       "\u001b[0;34m\u001b[0m    \u001b[0msession\u001b[0m\u001b[0;34m=\u001b[0m\u001b[0;32mNone\u001b[0m\u001b[0;34m,\u001b[0m\u001b[0;34m\u001b[0m\n",
       "\u001b[0;34m\u001b[0m    \u001b[0mtask\u001b[0m\u001b[0;34m=\u001b[0m\u001b[0;32mNone\u001b[0m\u001b[0;34m,\u001b[0m\u001b[0;34m\u001b[0m\n",
       "\u001b[0;34m\u001b[0m    \u001b[0macquisition\u001b[0m\u001b[0;34m=\u001b[0m\u001b[0;32mNone\u001b[0m\u001b[0;34m,\u001b[0m\u001b[0;34m\u001b[0m\n",
       "\u001b[0;34m\u001b[0m    \u001b[0mrun\u001b[0m\u001b[0;34m=\u001b[0m\u001b[0;32mNone\u001b[0m\u001b[0;34m,\u001b[0m\u001b[0;34m\u001b[0m\n",
       "\u001b[0;34m\u001b[0m    \u001b[0mprocessing\u001b[0m\u001b[0;34m=\u001b[0m\u001b[0;32mNone\u001b[0m\u001b[0;34m,\u001b[0m\u001b[0;34m\u001b[0m\n",
       "\u001b[0;34m\u001b[0m    \u001b[0mrecording\u001b[0m\u001b[0;34m=\u001b[0m\u001b[0;32mNone\u001b[0m\u001b[0;34m,\u001b[0m\u001b[0;34m\u001b[0m\n",
       "\u001b[0;34m\u001b[0m    \u001b[0mspace\u001b[0m\u001b[0;34m=\u001b[0m\u001b[0;32mNone\u001b[0m\u001b[0;34m,\u001b[0m\u001b[0;34m\u001b[0m\n",
       "\u001b[0;34m\u001b[0m    \u001b[0msplit\u001b[0m\u001b[0;34m=\u001b[0m\u001b[0;32mNone\u001b[0m\u001b[0;34m,\u001b[0m\u001b[0;34m\u001b[0m\n",
       "\u001b[0;34m\u001b[0m    \u001b[0mdescription\u001b[0m\u001b[0;34m=\u001b[0m\u001b[0;32mNone\u001b[0m\u001b[0;34m,\u001b[0m\u001b[0;34m\u001b[0m\n",
       "\u001b[0;34m\u001b[0m    \u001b[0mroot\u001b[0m\u001b[0;34m=\u001b[0m\u001b[0;32mNone\u001b[0m\u001b[0;34m,\u001b[0m\u001b[0;34m\u001b[0m\n",
       "\u001b[0;34m\u001b[0m    \u001b[0msuffix\u001b[0m\u001b[0;34m=\u001b[0m\u001b[0;32mNone\u001b[0m\u001b[0;34m,\u001b[0m\u001b[0;34m\u001b[0m\n",
       "\u001b[0;34m\u001b[0m    \u001b[0mextension\u001b[0m\u001b[0;34m=\u001b[0m\u001b[0;32mNone\u001b[0m\u001b[0;34m,\u001b[0m\u001b[0;34m\u001b[0m\n",
       "\u001b[0;34m\u001b[0m    \u001b[0mdatatype\u001b[0m\u001b[0;34m=\u001b[0m\u001b[0;32mNone\u001b[0m\u001b[0;34m,\u001b[0m\u001b[0;34m\u001b[0m\n",
       "\u001b[0;34m\u001b[0m    \u001b[0mcheck\u001b[0m\u001b[0;34m=\u001b[0m\u001b[0;32mTrue\u001b[0m\u001b[0;34m,\u001b[0m\u001b[0;34m\u001b[0m\n",
       "\u001b[0;34m\u001b[0m\u001b[0;34m)\u001b[0m\u001b[0;34m\u001b[0m\u001b[0;34m\u001b[0m\u001b[0m\n",
       "\u001b[0;31mDocstring:\u001b[0m     \n",
       "A BIDS path object.\n",
       "\n",
       "BIDS filename prefixes have one or more pieces of metadata in them. They\n",
       "must follow a particular order, which is followed by this function. This\n",
       "will generate the *prefix* for a BIDS filename that can be used with many\n",
       "subsequent files, or you may also give a suffix that will then complete\n",
       "the file name.\n",
       "\n",
       "BIDSPath allows dynamic updating of its entities in place, and operates\n",
       "similar to `pathlib.Path`. In addition, it can query multiple paths\n",
       "with matching BIDS entities via the ``match`` method.\n",
       "\n",
       "Note that not all parameters are applicable to each suffix of data. For\n",
       "example, electrode location TSV files do not need a \"task\" field.\n",
       "\n",
       "Parameters\n",
       "----------\n",
       "subject : str | None\n",
       "    The subject ID. Corresponds to \"sub\".\n",
       "session : str | None\n",
       "    The acquisition session. Corresponds to \"ses\".\n",
       "task : str | None\n",
       "    The experimental task. Corresponds to \"task\".\n",
       "acquisition: str | None\n",
       "    The acquisition parameters. Corresponds to \"acq\".\n",
       "run : int | None\n",
       "    The run number. Corresponds to \"run\".\n",
       "processing : str | None\n",
       "    The processing label. Corresponds to \"proc\".\n",
       "recording : str | None\n",
       "    The recording name. Corresponds to \"rec\".\n",
       "space : str | None\n",
       "    The coordinate space for anatomical and sensor location\n",
       "    files (e.g., ``*_electrodes.tsv``, ``*_markers.mrk``).\n",
       "    Corresponds to \"space\".\n",
       "    Note that valid values for ``space`` must come from a list\n",
       "    of BIDS keywords as described in the BIDS specification.\n",
       "split : int | None\n",
       "    The split of the continuous recording file for ``.fif`` data.\n",
       "    Corresponds to \"split\".\n",
       "description : str | None\n",
       "    This corresponds to the BIDS entity ``desc``. It is used to provide\n",
       "    additional information for derivative data, e.g., preprocessed data\n",
       "    may be assigned ``description='cleaned'``.\n",
       "\n",
       "    .. versionadded:: 0.11\n",
       "suffix : str | None\n",
       "    The filename suffix. This is the entity after the\n",
       "    last ``_`` before the extension. E.g., ``'channels'``.\n",
       "    The following filename suffix's are accepted:\n",
       "    'meg', 'markers', 'eeg', 'ieeg', 'T1w',\n",
       "    'participants', 'scans', 'electrodes', 'coordsystem',\n",
       "    'channels', 'events', 'headshape', 'digitizer',\n",
       "    'beh', 'physio', 'stim'\n",
       "extension : str | None\n",
       "    The extension of the filename. E.g., ``'.json'``.\n",
       "datatype : str\n",
       "    The BIDS data type, e.g., ``'anat'``, ``'func'``, ``'eeg'``, ``'meg'``,\n",
       "    ``'ieeg'``.\n",
       "root : path-like | None\n",
       "    The root directory of the BIDS dataset.\n",
       "check : bool\n",
       "    If ``True``, enforces BIDS conformity. Defaults to ``True``.\n",
       "\n",
       "Attributes\n",
       "----------\n",
       "entities : dict\n",
       "    A dictionary of the BIDS entities and their values:\n",
       "    ``subject``, ``session``, ``task``, ``acquisition``,\n",
       "    ``run``, ``processing``, ``space``, ``recording``,\n",
       "    ``split``, ``description``, ``suffix``, and ``extension``.\n",
       "datatype : str | None\n",
       "    The data type, i.e., one of ``'meg'``, ``'eeg'``, ``'ieeg'``,\n",
       "    ``'anat'``.\n",
       "basename : str\n",
       "    The basename of the file path. Similar to `os.path.basename(fpath)`.\n",
       "root : pathlib.Path\n",
       "    The root of the BIDS path.\n",
       "directory : pathlib.Path\n",
       "    The directory path.\n",
       "fpath : pathlib.Path\n",
       "    The full file path.\n",
       "check : bool\n",
       "    Whether to enforce BIDS conformity.\n",
       "\n",
       "Examples\n",
       "--------\n",
       "Generate a BIDSPath object and inspect it\n",
       "\n",
       ">>> bids_path = BIDSPath(subject='test', session='two', task='mytask',\n",
       "...                      suffix='ieeg', extension='.edf', datatype='ieeg')\n",
       ">>> print(bids_path.basename)\n",
       "sub-test_ses-two_task-mytask_ieeg.edf\n",
       ">>> bids_path\n",
       "BIDSPath(\n",
       "root: None\n",
       "datatype: ieeg\n",
       "basename: sub-test_ses-two_task-mytask_ieeg.edf)\n",
       "\n",
       "Copy and update multiple entities at once\n",
       "\n",
       ">>> new_bids_path = bids_path.copy().update(subject='test2',\n",
       "...                                         session='one')\n",
       ">>> print(new_bids_path.basename)\n",
       "sub-test2_ses-one_task-mytask_ieeg.edf\n",
       "\n",
       "Printing a BIDSPath will show a relative path when `root` is not set\n",
       "\n",
       ">>> print(new_bids_path)\n",
       "sub-test2/ses-one/ieeg/sub-test2_ses-one_task-mytask_ieeg.edf\n",
       "\n",
       "Setting `suffix` without an identifiable datatype will make\n",
       "BIDSPath try to guess the datatype\n",
       "\n",
       ">>> new_bids_path = new_bids_path.update(suffix='channels',\n",
       "...                                      extension='.tsv')\n",
       ">>> print(new_bids_path)\n",
       "sub-test2/ses-one/ieeg/sub-test2_ses-one_task-mytask_channels.tsv\n",
       "\n",
       "You can set a new root for the BIDS dataset. Let's see what the\n",
       "different properties look like for our object:\n",
       "\n",
       ">>> new_bids_path = new_bids_path.update(root='/bids_dataset')\n",
       ">>> print(new_bids_path.root.as_posix())\n",
       "/bids_dataset\n",
       ">>> print(new_bids_path.basename)\n",
       "sub-test2_ses-one_task-mytask_channels.tsv\n",
       ">>> print(new_bids_path)\n",
       "/bids_dataset/sub-test2/ses-one/ieeg/sub-test2_ses-one_task-mytask_channels.tsv\n",
       ">>> print(new_bids_path.directory.as_posix())\n",
       "/bids_dataset/sub-test2/ses-one/ieeg\n",
       "\n",
       "Notes\n",
       "-----\n",
       "BIDS entities are generally separated with a ``\"_\"`` character, while\n",
       "entity key/value pairs are separated with a ``\"-\"`` character.\n",
       "There are checks performed to make sure that there are no ``'-'``, ``'_'``,\n",
       "or ``'/'`` characters contained in any entity keys or values.\n",
       "\n",
       "To represent a filename such as ``dataset_description.json``,\n",
       "one can set ``check=False``, and pass ``suffix='dataset_description'``\n",
       "and ``extension='.json'``.\n",
       "\n",
       "``BIDSPath`` can also be used to represent file and folder names of data\n",
       "types that are not yet supported through MNE-BIDS, but are recognized by\n",
       "BIDS. For example, one can set ``datatype`` to ``dwi`` or ``func`` and\n",
       "pass ``check=False`` to represent diffusion-weighted imaging and\n",
       "functional MRI paths.\n",
       "\u001b[0;31mFile:\u001b[0m           /srv/conda/envs/notebook/lib/python3.10/site-packages/mne_bids/path.py\n",
       "\u001b[0;31mType:\u001b[0m           type\n",
       "\u001b[0;31mSubclasses:\u001b[0m     "
      ]
     },
     "metadata": {},
     "output_type": "display_data"
    }
   ],
   "source": [
    "mne_bids.BIDSPath?"
   ]
  },
  {
   "cell_type": "code",
   "execution_count": 22,
   "metadata": {},
   "outputs": [],
   "source": [
    "# Load the data and plot channel positions and events.\n",
    "path = mne_bids.BIDSPath(subject='01', session='ieeg01', task='ccep', run='01', root=root, suffix=\"ieeg\")"
   ]
  },
  {
   "cell_type": "code",
   "execution_count": 23,
   "metadata": {},
   "outputs": [
    {
     "ename": "FileNotFoundError",
     "evalue": "File does not exist:\n/home/jovyan/shared/ds003708/sub-01/ses-ieeg01/ieeg/sub-01_ses-ieeg01_task-ccep_run-01_ieeg\nDid you mean one of:\nsub-01_ses-ieeg01_task-ccep_run-01_ieeg.mefd\nsub-01_ses-ieeg01_task-ccep_run-01_ieeg.json\nsub-01_ses-ieeg01_task-ccep_run-01_events.tsv\ninstead of:\nsub-01_ses-ieeg01_task-ccep_run-01_ieeg",
     "output_type": "error",
     "traceback": [
      "\u001b[0;31m---------------------------------------------------------------------------\u001b[0m",
      "\u001b[0;31mFileNotFoundError\u001b[0m                         Traceback (most recent call last)",
      "Cell \u001b[0;32mIn[23], line 1\u001b[0m\n\u001b[0;32m----> 1\u001b[0m raw \u001b[38;5;241m=\u001b[39m \u001b[43mmne_bids\u001b[49m\u001b[38;5;241;43m.\u001b[39;49m\u001b[43mread_raw_bids\u001b[49m\u001b[43m(\u001b[49m\u001b[43mpath\u001b[49m\u001b[43m)\u001b[49m\n",
      "File \u001b[0;32m<decorator-gen-407>:12\u001b[0m, in \u001b[0;36mread_raw_bids\u001b[0;34m(bids_path, extra_params, verbose)\u001b[0m\n",
      "File \u001b[0;32m/srv/conda/envs/notebook/lib/python3.10/site-packages/mne_bids/read.py:845\u001b[0m, in \u001b[0;36mread_raw_bids\u001b[0;34m(bids_path, extra_params, verbose)\u001b[0m\n\u001b[1;32m    838\u001b[0m     \u001b[38;5;28;01mif\u001b[39;00m matches:\n\u001b[1;32m    839\u001b[0m         msg \u001b[38;5;241m+\u001b[39m\u001b[38;5;241m=\u001b[39m (\n\u001b[1;32m    840\u001b[0m             \u001b[38;5;124m\"\u001b[39m\u001b[38;5;130;01m\\n\u001b[39;00m\u001b[38;5;124mDid you mean one of:\u001b[39m\u001b[38;5;130;01m\\n\u001b[39;00m\u001b[38;5;124m\"\u001b[39m\n\u001b[1;32m    841\u001b[0m             \u001b[38;5;241m+\u001b[39m \u001b[38;5;124m\"\u001b[39m\u001b[38;5;130;01m\\n\u001b[39;00m\u001b[38;5;124m\"\u001b[39m\u001b[38;5;241m.\u001b[39mjoin(matches)\n\u001b[1;32m    842\u001b[0m             \u001b[38;5;241m+\u001b[39m \u001b[38;5;124m\"\u001b[39m\u001b[38;5;130;01m\\n\u001b[39;00m\u001b[38;5;124minstead of:\u001b[39m\u001b[38;5;130;01m\\n\u001b[39;00m\u001b[38;5;124m\"\u001b[39m\n\u001b[1;32m    843\u001b[0m             \u001b[38;5;241m+\u001b[39m bids_path\u001b[38;5;241m.\u001b[39mbasename\n\u001b[1;32m    844\u001b[0m         )\n\u001b[0;32m--> 845\u001b[0m     \u001b[38;5;28;01mraise\u001b[39;00m \u001b[38;5;167;01mFileNotFoundError\u001b[39;00m(msg)\n\u001b[1;32m    846\u001b[0m \u001b[38;5;28;01mif\u001b[39;00m config_path \u001b[38;5;129;01mis\u001b[39;00m \u001b[38;5;129;01mnot\u001b[39;00m \u001b[38;5;28;01mNone\u001b[39;00m \u001b[38;5;129;01mand\u001b[39;00m \u001b[38;5;129;01mnot\u001b[39;00m config_path\u001b[38;5;241m.\u001b[39mexists():\n\u001b[1;32m    847\u001b[0m     \u001b[38;5;28;01mraise\u001b[39;00m \u001b[38;5;167;01mFileNotFoundError\u001b[39;00m(\u001b[38;5;124mf\u001b[39m\u001b[38;5;124m\"\u001b[39m\u001b[38;5;124mconfig directory not found: \u001b[39m\u001b[38;5;132;01m{\u001b[39;00mconfig_path\u001b[38;5;132;01m}\u001b[39;00m\u001b[38;5;124m\"\u001b[39m)\n",
      "\u001b[0;31mFileNotFoundError\u001b[0m: File does not exist:\n/home/jovyan/shared/ds003708/sub-01/ses-ieeg01/ieeg/sub-01_ses-ieeg01_task-ccep_run-01_ieeg\nDid you mean one of:\nsub-01_ses-ieeg01_task-ccep_run-01_ieeg.mefd\nsub-01_ses-ieeg01_task-ccep_run-01_ieeg.json\nsub-01_ses-ieeg01_task-ccep_run-01_events.tsv\ninstead of:\nsub-01_ses-ieeg01_task-ccep_run-01_ieeg"
     ]
    }
   ],
   "source": [
    "raw = mne_bids.read_raw_bids(path)"
   ]
  },
  {
   "cell_type": "code",
   "execution_count": 18,
   "metadata": {},
   "outputs": [
    {
     "ename": "NameError",
     "evalue": "name 'raw' is not defined",
     "output_type": "error",
     "traceback": [
      "\u001b[0;31m---------------------------------------------------------------------------\u001b[0m",
      "\u001b[0;31mNameError\u001b[0m                                 Traceback (most recent call last)",
      "Cell \u001b[0;32mIn[18], line 3\u001b[0m\n\u001b[1;32m      1\u001b[0m trans \u001b[38;5;241m=\u001b[39m mne\u001b[38;5;241m.\u001b[39mtransforms\u001b[38;5;241m.\u001b[39mTransform(fro\u001b[38;5;241m=\u001b[39m\u001b[38;5;124m'\u001b[39m\u001b[38;5;124mhead\u001b[39m\u001b[38;5;124m'\u001b[39m, to\u001b[38;5;241m=\u001b[39m\u001b[38;5;124m'\u001b[39m\u001b[38;5;124mmri\u001b[39m\u001b[38;5;124m'\u001b[39m, trans\u001b[38;5;241m=\u001b[39mnp\u001b[38;5;241m.\u001b[39meye(\u001b[38;5;241m4\u001b[39m))  \u001b[38;5;66;03m# identity\u001b[39;00m\n\u001b[1;32m      2\u001b[0m fig \u001b[38;5;241m=\u001b[39m mne\u001b[38;5;241m.\u001b[39mviz\u001b[38;5;241m.\u001b[39mplot_alignment(\n\u001b[0;32m----> 3\u001b[0m     \u001b[43mraw\u001b[49m\u001b[38;5;241m.\u001b[39minfo, trans\u001b[38;5;241m=\u001b[39mtrans, subject\u001b[38;5;241m=\u001b[39m\u001b[38;5;124m'\u001b[39m\u001b[38;5;124mfsaverage\u001b[39m\u001b[38;5;124m'\u001b[39m, surfaces\u001b[38;5;241m=\u001b[39m\u001b[38;5;124m'\u001b[39m\u001b[38;5;124mpial\u001b[39m\u001b[38;5;124m'\u001b[39m)\n\u001b[1;32m      4\u001b[0m mne\u001b[38;5;241m.\u001b[39mviz\u001b[38;5;241m.\u001b[39mset_3d_view(fig, azimuth\u001b[38;5;241m=\u001b[39m\u001b[38;5;241m190\u001b[39m)\n",
      "\u001b[0;31mNameError\u001b[0m: name 'raw' is not defined"
     ]
    }
   ],
   "source": [
    "trans = mne.transforms.Transform(fro='head', to='mri', trans=np.eye(4))  # identity\n",
    "fig = mne.viz.plot_alignment(\n",
    "    raw.info, trans=trans, subject='fsaverage', surfaces='pial')\n",
    "mne.viz.set_3d_view(fig, azimuth=190)"
   ]
  },
  {
   "cell_type": "code",
   "execution_count": null,
   "metadata": {},
   "outputs": [
    {
     "ename": "FileNotFoundError",
     "evalue": "File does not exist:\n/home/jovyan/shared-readwrite/ds003708/sub-01/ses-ieeg01/ieeg/sub-01_ses-ieeg01_task-ccep_run-01_ieeg\nDid you mean one of:\nsub-01_ses-ieeg01_task-ccep_run-01_ieeg.mefd\nsub-01_ses-ieeg01_task-ccep_run-01_ieeg.json\nsub-01_ses-ieeg01_task-ccep_run-01_events.tsv\ninstead of:\nsub-01_ses-ieeg01_task-ccep_run-01_ieeg",
     "output_type": "error",
     "traceback": [
      "\u001b[0;31m---------------------------------------------------------------------------\u001b[0m",
      "\u001b[0;31mFileNotFoundError\u001b[0m                         Traceback (most recent call last)",
      "Cell \u001b[0;32mIn[7], line 5\u001b[0m\n\u001b[1;32m      1\u001b[0m \u001b[38;5;66;03m# %%\u001b[39;00m\n\u001b[1;32m      2\u001b[0m \u001b[38;5;66;03m# Load the data and plot channel positions and events.\u001b[39;00m\n\u001b[1;32m      3\u001b[0m path \u001b[38;5;241m=\u001b[39m mne_bids\u001b[38;5;241m.\u001b[39mBIDSPath(\n\u001b[1;32m      4\u001b[0m     subject\u001b[38;5;241m=\u001b[39m\u001b[38;5;124m'\u001b[39m\u001b[38;5;124m01\u001b[39m\u001b[38;5;124m'\u001b[39m, session\u001b[38;5;241m=\u001b[39m\u001b[38;5;124m'\u001b[39m\u001b[38;5;124mieeg01\u001b[39m\u001b[38;5;124m'\u001b[39m, task\u001b[38;5;241m=\u001b[39m\u001b[38;5;124m'\u001b[39m\u001b[38;5;124mccep\u001b[39m\u001b[38;5;124m'\u001b[39m, run\u001b[38;5;241m=\u001b[39m\u001b[38;5;124m'\u001b[39m\u001b[38;5;124m01\u001b[39m\u001b[38;5;124m'\u001b[39m, root\u001b[38;5;241m=\u001b[39mroot)\n\u001b[0;32m----> 5\u001b[0m raw \u001b[38;5;241m=\u001b[39m \u001b[43mmne_bids\u001b[49m\u001b[38;5;241;43m.\u001b[39;49m\u001b[43mread_raw_bids\u001b[49m\u001b[43m(\u001b[49m\u001b[43mpath\u001b[49m\u001b[43m)\u001b[49m\n\u001b[1;32m      7\u001b[0m trans \u001b[38;5;241m=\u001b[39m mne\u001b[38;5;241m.\u001b[39mtransforms\u001b[38;5;241m.\u001b[39mTransform(fro\u001b[38;5;241m=\u001b[39m\u001b[38;5;124m'\u001b[39m\u001b[38;5;124mhead\u001b[39m\u001b[38;5;124m'\u001b[39m, to\u001b[38;5;241m=\u001b[39m\u001b[38;5;124m'\u001b[39m\u001b[38;5;124mmri\u001b[39m\u001b[38;5;124m'\u001b[39m, trans\u001b[38;5;241m=\u001b[39mnp\u001b[38;5;241m.\u001b[39meye(\u001b[38;5;241m4\u001b[39m))  \u001b[38;5;66;03m# identity\u001b[39;00m\n\u001b[1;32m      8\u001b[0m fig \u001b[38;5;241m=\u001b[39m mne\u001b[38;5;241m.\u001b[39mviz\u001b[38;5;241m.\u001b[39mplot_alignment(\n\u001b[1;32m      9\u001b[0m     raw\u001b[38;5;241m.\u001b[39minfo, trans\u001b[38;5;241m=\u001b[39mtrans, subject\u001b[38;5;241m=\u001b[39m\u001b[38;5;124m'\u001b[39m\u001b[38;5;124mfsaverage\u001b[39m\u001b[38;5;124m'\u001b[39m, surfaces\u001b[38;5;241m=\u001b[39m\u001b[38;5;124m'\u001b[39m\u001b[38;5;124mpial\u001b[39m\u001b[38;5;124m'\u001b[39m)\n",
      "File \u001b[0;32m<decorator-gen-407>:12\u001b[0m, in \u001b[0;36mread_raw_bids\u001b[0;34m(bids_path, extra_params, verbose)\u001b[0m\n",
      "File \u001b[0;32m/srv/conda/envs/notebook/lib/python3.10/site-packages/mne_bids/read.py:845\u001b[0m, in \u001b[0;36mread_raw_bids\u001b[0;34m(bids_path, extra_params, verbose)\u001b[0m\n\u001b[1;32m    838\u001b[0m     \u001b[38;5;28;01mif\u001b[39;00m matches:\n\u001b[1;32m    839\u001b[0m         msg \u001b[38;5;241m+\u001b[39m\u001b[38;5;241m=\u001b[39m (\n\u001b[1;32m    840\u001b[0m             \u001b[38;5;124m\"\u001b[39m\u001b[38;5;130;01m\\n\u001b[39;00m\u001b[38;5;124mDid you mean one of:\u001b[39m\u001b[38;5;130;01m\\n\u001b[39;00m\u001b[38;5;124m\"\u001b[39m\n\u001b[1;32m    841\u001b[0m             \u001b[38;5;241m+\u001b[39m \u001b[38;5;124m\"\u001b[39m\u001b[38;5;130;01m\\n\u001b[39;00m\u001b[38;5;124m\"\u001b[39m\u001b[38;5;241m.\u001b[39mjoin(matches)\n\u001b[1;32m    842\u001b[0m             \u001b[38;5;241m+\u001b[39m \u001b[38;5;124m\"\u001b[39m\u001b[38;5;130;01m\\n\u001b[39;00m\u001b[38;5;124minstead of:\u001b[39m\u001b[38;5;130;01m\\n\u001b[39;00m\u001b[38;5;124m\"\u001b[39m\n\u001b[1;32m    843\u001b[0m             \u001b[38;5;241m+\u001b[39m bids_path\u001b[38;5;241m.\u001b[39mbasename\n\u001b[1;32m    844\u001b[0m         )\n\u001b[0;32m--> 845\u001b[0m     \u001b[38;5;28;01mraise\u001b[39;00m \u001b[38;5;167;01mFileNotFoundError\u001b[39;00m(msg)\n\u001b[1;32m    846\u001b[0m \u001b[38;5;28;01mif\u001b[39;00m config_path \u001b[38;5;129;01mis\u001b[39;00m \u001b[38;5;129;01mnot\u001b[39;00m \u001b[38;5;28;01mNone\u001b[39;00m \u001b[38;5;129;01mand\u001b[39;00m \u001b[38;5;129;01mnot\u001b[39;00m config_path\u001b[38;5;241m.\u001b[39mexists():\n\u001b[1;32m    847\u001b[0m     \u001b[38;5;28;01mraise\u001b[39;00m \u001b[38;5;167;01mFileNotFoundError\u001b[39;00m(\u001b[38;5;124mf\u001b[39m\u001b[38;5;124m\"\u001b[39m\u001b[38;5;124mconfig directory not found: \u001b[39m\u001b[38;5;132;01m{\u001b[39;00mconfig_path\u001b[38;5;132;01m}\u001b[39;00m\u001b[38;5;124m\"\u001b[39m)\n",
      "\u001b[0;31mFileNotFoundError\u001b[0m: File does not exist:\n/home/jovyan/shared-readwrite/ds003708/sub-01/ses-ieeg01/ieeg/sub-01_ses-ieeg01_task-ccep_run-01_ieeg\nDid you mean one of:\nsub-01_ses-ieeg01_task-ccep_run-01_ieeg.mefd\nsub-01_ses-ieeg01_task-ccep_run-01_ieeg.json\nsub-01_ses-ieeg01_task-ccep_run-01_events.tsv\ninstead of:\nsub-01_ses-ieeg01_task-ccep_run-01_ieeg"
     ]
    },
    {
     "data": {
      "application/vnd.jupyter.widget-view+json": {
       "model_id": "",
       "version_major": 2,
       "version_minor": 0
      },
      "text/plain": [
       "LAD2-000000.tidx:   0%|          | 0.00/219k [00:00<?, ?B/s]"
      ]
     },
     "metadata": {},
     "output_type": "display_data"
    },
    {
     "data": {
      "application/vnd.jupyter.widget-view+json": {
       "model_id": "",
       "version_major": 2,
       "version_minor": 0
      },
      "text/plain": [
       "LAD2-000000.tmet:   0%|          | 0.00/16.0k [00:00<?, ?B/s]"
      ]
     },
     "metadata": {},
     "output_type": "display_data"
    },
    {
     "data": {
      "application/vnd.jupyter.widget-view+json": {
       "model_id": "",
       "version_major": 2,
       "version_minor": 0
      },
      "text/plain": [
       "LAD3-000000.tdat:   0%|          | 0.00/6.50M [00:00<?, ?B/s]"
      ]
     },
     "metadata": {},
     "output_type": "display_data"
    },
    {
     "data": {
      "application/vnd.jupyter.widget-view+json": {
       "model_id": "",
       "version_major": 2,
       "version_minor": 0
      },
      "text/plain": [
       "LAD3-000000.tidx:   0%|          | 0.00/219k [00:00<?, ?B/s]"
      ]
     },
     "metadata": {},
     "output_type": "display_data"
    },
    {
     "data": {
      "application/vnd.jupyter.widget-view+json": {
       "model_id": "",
       "version_major": 2,
       "version_minor": 0
      },
      "text/plain": [
       "LAD4-000000.tdat:   0%|          | 0.00/6.52M [00:00<?, ?B/s]"
      ]
     },
     "metadata": {},
     "output_type": "display_data"
    },
    {
     "data": {
      "application/vnd.jupyter.widget-view+json": {
       "model_id": "",
       "version_major": 2,
       "version_minor": 0
      },
      "text/plain": [
       "LAD4-000000.tidx:   0%|          | 0.00/219k [00:00<?, ?B/s]"
      ]
     },
     "metadata": {},
     "output_type": "display_data"
    },
    {
     "data": {
      "application/vnd.jupyter.widget-view+json": {
       "model_id": "",
       "version_major": 2,
       "version_minor": 0
      },
      "text/plain": [
       "LAD3-000000.tmet:   0%|          | 0.00/16.0k [00:00<?, ?B/s]"
      ]
     },
     "metadata": {},
     "output_type": "display_data"
    },
    {
     "data": {
      "application/vnd.jupyter.widget-view+json": {
       "model_id": "",
       "version_major": 2,
       "version_minor": 0
      },
      "text/plain": [
       "LAD4-000000.tmet:   0%|          | 0.00/16.0k [00:00<?, ?B/s]"
      ]
     },
     "metadata": {},
     "output_type": "display_data"
    },
    {
     "data": {
      "application/vnd.jupyter.widget-view+json": {
       "model_id": "",
       "version_major": 2,
       "version_minor": 0
      },
      "text/plain": [
       "LAG49-000000.tdat:   0%|          | 0.00/6.71M [00:00<?, ?B/s]"
      ]
     },
     "metadata": {},
     "output_type": "display_data"
    },
    {
     "data": {
      "application/vnd.jupyter.widget-view+json": {
       "model_id": "",
       "version_major": 2,
       "version_minor": 0
      },
      "text/plain": [
       "LAG49-000000.tmet:   0%|          | 0.00/16.0k [00:00<?, ?B/s]"
      ]
     },
     "metadata": {},
     "output_type": "display_data"
    },
    {
     "data": {
      "application/vnd.jupyter.widget-view+json": {
       "model_id": "",
       "version_major": 2,
       "version_minor": 0
      },
      "text/plain": [
       "LAG49-000000.tidx:   0%|          | 0.00/219k [00:00<?, ?B/s]"
      ]
     },
     "metadata": {},
     "output_type": "display_data"
    },
    {
     "data": {
      "application/vnd.jupyter.widget-view+json": {
       "model_id": "",
       "version_major": 2,
       "version_minor": 0
      },
      "text/plain": [
       "LAG50-000000.tdat:   0%|          | 0.00/6.68M [00:00<?, ?B/s]"
      ]
     },
     "metadata": {},
     "output_type": "display_data"
    },
    {
     "data": {
      "application/vnd.jupyter.widget-view+json": {
       "model_id": "",
       "version_major": 2,
       "version_minor": 0
      },
      "text/plain": [
       "LAG50-000000.tidx:   0%|          | 0.00/219k [00:00<?, ?B/s]"
      ]
     },
     "metadata": {},
     "output_type": "display_data"
    },
    {
     "data": {
      "application/vnd.jupyter.widget-view+json": {
       "model_id": "",
       "version_major": 2,
       "version_minor": 0
      },
      "text/plain": [
       "LAG50-000000.tmet:   0%|          | 0.00/16.0k [00:00<?, ?B/s]"
      ]
     },
     "metadata": {},
     "output_type": "display_data"
    },
    {
     "data": {
      "application/vnd.jupyter.widget-view+json": {
       "model_id": "",
       "version_major": 2,
       "version_minor": 0
      },
      "text/plain": [
       "LAG51-000000.tidx:   0%|          | 0.00/219k [00:00<?, ?B/s]"
      ]
     },
     "metadata": {},
     "output_type": "display_data"
    },
    {
     "data": {
      "application/vnd.jupyter.widget-view+json": {
       "model_id": "",
       "version_major": 2,
       "version_minor": 0
      },
      "text/plain": [
       "LAG51-000000.tmet:   0%|          | 0.00/16.0k [00:00<?, ?B/s]"
      ]
     },
     "metadata": {},
     "output_type": "display_data"
    },
    {
     "data": {
      "application/vnd.jupyter.widget-view+json": {
       "model_id": "",
       "version_major": 2,
       "version_minor": 0
      },
      "text/plain": [
       "LAG51-000000.tdat:   0%|          | 0.00/6.73M [00:00<?, ?B/s]"
      ]
     },
     "metadata": {},
     "output_type": "display_data"
    },
    {
     "data": {
      "application/vnd.jupyter.widget-view+json": {
       "model_id": "",
       "version_major": 2,
       "version_minor": 0
      },
      "text/plain": [
       "LAG52-000000.tidx:   0%|          | 0.00/219k [00:00<?, ?B/s]"
      ]
     },
     "metadata": {},
     "output_type": "display_data"
    },
    {
     "data": {
      "application/vnd.jupyter.widget-view+json": {
       "model_id": "",
       "version_major": 2,
       "version_minor": 0
      },
      "text/plain": [
       "LAG52-000000.tmet:   0%|          | 0.00/16.0k [00:00<?, ?B/s]"
      ]
     },
     "metadata": {},
     "output_type": "display_data"
    },
    {
     "data": {
      "application/vnd.jupyter.widget-view+json": {
       "model_id": "",
       "version_major": 2,
       "version_minor": 0
      },
      "text/plain": [
       "LAG52-000000.tdat:   0%|          | 0.00/6.69M [00:00<?, ?B/s]"
      ]
     },
     "metadata": {},
     "output_type": "display_data"
    },
    {
     "data": {
      "application/vnd.jupyter.widget-view+json": {
       "model_id": "",
       "version_major": 2,
       "version_minor": 0
      },
      "text/plain": [
       "LAG53-000000.tdat:   0%|          | 0.00/6.51M [00:00<?, ?B/s]"
      ]
     },
     "metadata": {},
     "output_type": "display_data"
    },
    {
     "data": {
      "application/vnd.jupyter.widget-view+json": {
       "model_id": "",
       "version_major": 2,
       "version_minor": 0
      },
      "text/plain": [
       "LAG53-000000.tmet:   0%|          | 0.00/16.0k [00:00<?, ?B/s]"
      ]
     },
     "metadata": {},
     "output_type": "display_data"
    },
    {
     "data": {
      "application/vnd.jupyter.widget-view+json": {
       "model_id": "",
       "version_major": 2,
       "version_minor": 0
      },
      "text/plain": [
       "LAG53-000000.tidx:   0%|          | 0.00/219k [00:00<?, ?B/s]"
      ]
     },
     "metadata": {},
     "output_type": "display_data"
    },
    {
     "data": {
      "application/vnd.jupyter.widget-view+json": {
       "model_id": "",
       "version_major": 2,
       "version_minor": 0
      },
      "text/plain": [
       "LAG54-000000.tdat:   0%|          | 0.00/6.47M [00:00<?, ?B/s]"
      ]
     },
     "metadata": {},
     "output_type": "display_data"
    },
    {
     "data": {
      "application/vnd.jupyter.widget-view+json": {
       "model_id": "",
       "version_major": 2,
       "version_minor": 0
      },
      "text/plain": [
       "LAG54-000000.tmet:   0%|          | 0.00/16.0k [00:00<?, ?B/s]"
      ]
     },
     "metadata": {},
     "output_type": "display_data"
    },
    {
     "data": {
      "application/vnd.jupyter.widget-view+json": {
       "model_id": "",
       "version_major": 2,
       "version_minor": 0
      },
      "text/plain": [
       "LAG55-000000.tdat:   0%|          | 0.00/6.30M [00:00<?, ?B/s]"
      ]
     },
     "metadata": {},
     "output_type": "display_data"
    },
    {
     "data": {
      "application/vnd.jupyter.widget-view+json": {
       "model_id": "",
       "version_major": 2,
       "version_minor": 0
      },
      "text/plain": [
       "LAG54-000000.tidx:   0%|          | 0.00/219k [00:00<?, ?B/s]"
      ]
     },
     "metadata": {},
     "output_type": "display_data"
    },
    {
     "data": {
      "application/vnd.jupyter.widget-view+json": {
       "model_id": "",
       "version_major": 2,
       "version_minor": 0
      },
      "text/plain": [
       "LAG55-000000.tidx:   0%|          | 0.00/219k [00:00<?, ?B/s]"
      ]
     },
     "metadata": {},
     "output_type": "display_data"
    },
    {
     "data": {
      "application/vnd.jupyter.widget-view+json": {
       "model_id": "",
       "version_major": 2,
       "version_minor": 0
      },
      "text/plain": [
       "LAG55-000000.tmet:   0%|          | 0.00/16.0k [00:00<?, ?B/s]"
      ]
     },
     "metadata": {},
     "output_type": "display_data"
    },
    {
     "data": {
      "application/vnd.jupyter.widget-view+json": {
       "model_id": "",
       "version_major": 2,
       "version_minor": 0
      },
      "text/plain": [
       "LAG56-000000.tdat:   0%|          | 0.00/6.27M [00:00<?, ?B/s]"
      ]
     },
     "metadata": {},
     "output_type": "display_data"
    },
    {
     "data": {
      "application/vnd.jupyter.widget-view+json": {
       "model_id": "",
       "version_major": 2,
       "version_minor": 0
      },
      "text/plain": [
       "LAG56-000000.tmet:   0%|          | 0.00/16.0k [00:00<?, ?B/s]"
      ]
     },
     "metadata": {},
     "output_type": "display_data"
    },
    {
     "data": {
      "application/vnd.jupyter.widget-view+json": {
       "model_id": "",
       "version_major": 2,
       "version_minor": 0
      },
      "text/plain": [
       "LAG56-000000.tidx:   0%|          | 0.00/219k [00:00<?, ?B/s]"
      ]
     },
     "metadata": {},
     "output_type": "display_data"
    },
    {
     "data": {
      "application/vnd.jupyter.widget-view+json": {
       "model_id": "",
       "version_major": 2,
       "version_minor": 0
      },
      "text/plain": [
       "LAG57-000000.tdat:   0%|          | 0.00/6.56M [00:00<?, ?B/s]"
      ]
     },
     "metadata": {},
     "output_type": "display_data"
    },
    {
     "data": {
      "application/vnd.jupyter.widget-view+json": {
       "model_id": "",
       "version_major": 2,
       "version_minor": 0
      },
      "text/plain": [
       "LAG57-000000.tidx:   0%|          | 0.00/219k [00:00<?, ?B/s]"
      ]
     },
     "metadata": {},
     "output_type": "display_data"
    },
    {
     "data": {
      "application/vnd.jupyter.widget-view+json": {
       "model_id": "",
       "version_major": 2,
       "version_minor": 0
      },
      "text/plain": [
       "LAG58-000000.tdat:   0%|          | 0.00/6.60M [00:00<?, ?B/s]"
      ]
     },
     "metadata": {},
     "output_type": "display_data"
    },
    {
     "data": {
      "application/vnd.jupyter.widget-view+json": {
       "model_id": "",
       "version_major": 2,
       "version_minor": 0
      },
      "text/plain": [
       "LAG57-000000.tmet:   0%|          | 0.00/16.0k [00:00<?, ?B/s]"
      ]
     },
     "metadata": {},
     "output_type": "display_data"
    },
    {
     "data": {
      "application/vnd.jupyter.widget-view+json": {
       "model_id": "",
       "version_major": 2,
       "version_minor": 0
      },
      "text/plain": [
       "LAG58-000000.tidx:   0%|          | 0.00/219k [00:00<?, ?B/s]"
      ]
     },
     "metadata": {},
     "output_type": "display_data"
    },
    {
     "data": {
      "application/vnd.jupyter.widget-view+json": {
       "model_id": "",
       "version_major": 2,
       "version_minor": 0
      },
      "text/plain": [
       "LAG58-000000.tmet:   0%|          | 0.00/16.0k [00:00<?, ?B/s]"
      ]
     },
     "metadata": {},
     "output_type": "display_data"
    },
    {
     "data": {
      "application/vnd.jupyter.widget-view+json": {
       "model_id": "",
       "version_major": 2,
       "version_minor": 0
      },
      "text/plain": [
       "LAG59-000000.tdat:   0%|          | 0.00/6.80M [00:00<?, ?B/s]"
      ]
     },
     "metadata": {},
     "output_type": "display_data"
    },
    {
     "data": {
      "application/vnd.jupyter.widget-view+json": {
       "model_id": "",
       "version_major": 2,
       "version_minor": 0
      },
      "text/plain": [
       "LAG59-000000.tidx:   0%|          | 0.00/219k [00:00<?, ?B/s]"
      ]
     },
     "metadata": {},
     "output_type": "display_data"
    },
    {
     "data": {
      "application/vnd.jupyter.widget-view+json": {
       "model_id": "",
       "version_major": 2,
       "version_minor": 0
      },
      "text/plain": [
       "LAG59-000000.tmet:   0%|          | 0.00/16.0k [00:00<?, ?B/s]"
      ]
     },
     "metadata": {},
     "output_type": "display_data"
    },
    {
     "data": {
      "application/vnd.jupyter.widget-view+json": {
       "model_id": "",
       "version_major": 2,
       "version_minor": 0
      },
      "text/plain": [
       "LAG60-000000.tdat:   0%|          | 0.00/6.55M [00:00<?, ?B/s]"
      ]
     },
     "metadata": {},
     "output_type": "display_data"
    },
    {
     "data": {
      "application/vnd.jupyter.widget-view+json": {
       "model_id": "",
       "version_major": 2,
       "version_minor": 0
      },
      "text/plain": [
       "LAG60-000000.tidx:   0%|          | 0.00/219k [00:00<?, ?B/s]"
      ]
     },
     "metadata": {},
     "output_type": "display_data"
    },
    {
     "data": {
      "application/vnd.jupyter.widget-view+json": {
       "model_id": "",
       "version_major": 2,
       "version_minor": 0
      },
      "text/plain": [
       "LAG60-000000.tmet:   0%|          | 0.00/16.0k [00:00<?, ?B/s]"
      ]
     },
     "metadata": {},
     "output_type": "display_data"
    },
    {
     "data": {
      "application/vnd.jupyter.widget-view+json": {
       "model_id": "",
       "version_major": 2,
       "version_minor": 0
      },
      "text/plain": [
       "LAG61-000000.tdat:   0%|          | 0.00/6.73M [00:00<?, ?B/s]"
      ]
     },
     "metadata": {},
     "output_type": "display_data"
    },
    {
     "data": {
      "application/vnd.jupyter.widget-view+json": {
       "model_id": "",
       "version_major": 2,
       "version_minor": 0
      },
      "text/plain": [
       "LAG61-000000.tidx:   0%|          | 0.00/219k [00:00<?, ?B/s]"
      ]
     },
     "metadata": {},
     "output_type": "display_data"
    },
    {
     "data": {
      "application/vnd.jupyter.widget-view+json": {
       "model_id": "",
       "version_major": 2,
       "version_minor": 0
      },
      "text/plain": [
       "LAG61-000000.tmet:   0%|          | 0.00/16.0k [00:00<?, ?B/s]"
      ]
     },
     "metadata": {},
     "output_type": "display_data"
    },
    {
     "data": {
      "application/vnd.jupyter.widget-view+json": {
       "model_id": "",
       "version_major": 2,
       "version_minor": 0
      },
      "text/plain": [
       "LAG62-000000.tdat:   0%|          | 0.00/6.61M [00:00<?, ?B/s]"
      ]
     },
     "metadata": {},
     "output_type": "display_data"
    },
    {
     "data": {
      "application/vnd.jupyter.widget-view+json": {
       "model_id": "",
       "version_major": 2,
       "version_minor": 0
      },
      "text/plain": [
       "LAG62-000000.tidx:   0%|          | 0.00/219k [00:00<?, ?B/s]"
      ]
     },
     "metadata": {},
     "output_type": "display_data"
    },
    {
     "data": {
      "application/vnd.jupyter.widget-view+json": {
       "model_id": "a5249399f0d14037a52b63cd14628380",
       "version_major": 2,
       "version_minor": 0
      },
      "text/plain": [
       "LAG62-000000.tmet:   0%|          | 0.00/16.0k [00:00<?, ?B/s]"
      ]
     },
     "metadata": {},
     "output_type": "display_data"
    },
    {
     "data": {
      "application/vnd.jupyter.widget-view+json": {
       "model_id": "ce1494be6d09476ab14f0cf0ec7ad552",
       "version_major": 2,
       "version_minor": 0
      },
      "text/plain": [
       "LAG63-000000.tdat:   0%|          | 0.00/6.30M [00:00<?, ?B/s]"
      ]
     },
     "metadata": {},
     "output_type": "display_data"
    },
    {
     "data": {
      "application/vnd.jupyter.widget-view+json": {
       "model_id": "141b13ea72344203aa6d5a5b0874cef2",
       "version_major": 2,
       "version_minor": 0
      },
      "text/plain": [
       "LAG63-000000.tmet:   0%|          | 0.00/16.0k [00:00<?, ?B/s]"
      ]
     },
     "metadata": {},
     "output_type": "display_data"
    },
    {
     "data": {
      "application/vnd.jupyter.widget-view+json": {
       "model_id": "05b0037d42814ee8a5036686a6f0867b",
       "version_major": 2,
       "version_minor": 0
      },
      "text/plain": [
       "LAG63-000000.tidx:   0%|          | 0.00/219k [00:00<?, ?B/s]"
      ]
     },
     "metadata": {},
     "output_type": "display_data"
    },
    {
     "data": {
      "application/vnd.jupyter.widget-view+json": {
       "model_id": "003284c7491749e5ae1cd48de4f6ae00",
       "version_major": 2,
       "version_minor": 0
      },
      "text/plain": [
       "LAG64-000000.tidx:   0%|          | 0.00/219k [00:00<?, ?B/s]"
      ]
     },
     "metadata": {},
     "output_type": "display_data"
    },
    {
     "data": {
      "application/vnd.jupyter.widget-view+json": {
       "model_id": "f72840dd841341318037f43a76c67a7b",
       "version_major": 2,
       "version_minor": 0
      },
      "text/plain": [
       "LAG64-000000.tdat:   0%|          | 0.00/6.14M [00:00<?, ?B/s]"
      ]
     },
     "metadata": {},
     "output_type": "display_data"
    },
    {
     "data": {
      "application/vnd.jupyter.widget-view+json": {
       "model_id": "9f200ee622544073bfda0628d4ee8b3b",
       "version_major": 2,
       "version_minor": 0
      },
      "text/plain": [
       "LAG64-000000.tmet:   0%|          | 0.00/16.0k [00:00<?, ?B/s]"
      ]
     },
     "metadata": {},
     "output_type": "display_data"
    },
    {
     "data": {
      "application/vnd.jupyter.widget-view+json": {
       "model_id": "ae1d4c6fd99a445998498ce455e6e169",
       "version_major": 2,
       "version_minor": 0
      },
      "text/plain": [
       "LAS1-000000.tdat:   0%|          | 0.00/6.77M [00:00<?, ?B/s]"
      ]
     },
     "metadata": {},
     "output_type": "display_data"
    },
    {
     "data": {
      "application/vnd.jupyter.widget-view+json": {
       "model_id": "14dd0506c41d4bbea45cc08349f0e5ba",
       "version_major": 2,
       "version_minor": 0
      },
      "text/plain": [
       "LAS1-000000.tmet:   0%|          | 0.00/16.0k [00:00<?, ?B/s]"
      ]
     },
     "metadata": {},
     "output_type": "display_data"
    },
    {
     "data": {
      "application/vnd.jupyter.widget-view+json": {
       "model_id": "ca1f66ea522f470488b17acd0caf79e9",
       "version_major": 2,
       "version_minor": 0
      },
      "text/plain": [
       "LAS1-000000.tidx:   0%|          | 0.00/219k [00:00<?, ?B/s]"
      ]
     },
     "metadata": {},
     "output_type": "display_data"
    },
    {
     "data": {
      "application/vnd.jupyter.widget-view+json": {
       "model_id": "ade8ff4ab8a24f1f89a11b44a0e72320",
       "version_major": 2,
       "version_minor": 0
      },
      "text/plain": [
       "LAS2-000000.tidx:   0%|          | 0.00/219k [00:00<?, ?B/s]"
      ]
     },
     "metadata": {},
     "output_type": "display_data"
    },
    {
     "data": {
      "application/vnd.jupyter.widget-view+json": {
       "model_id": "bc30a26f58eb45adb45bc418709cfc57",
       "version_major": 2,
       "version_minor": 0
      },
      "text/plain": [
       "LAS2-000000.tmet:   0%|          | 0.00/16.0k [00:00<?, ?B/s]"
      ]
     },
     "metadata": {},
     "output_type": "display_data"
    },
    {
     "data": {
      "application/vnd.jupyter.widget-view+json": {
       "model_id": "525b21aec3b947e4aeab8e298941651b",
       "version_major": 2,
       "version_minor": 0
      },
      "text/plain": [
       "LAS2-000000.tdat:   0%|          | 0.00/6.72M [00:00<?, ?B/s]"
      ]
     },
     "metadata": {},
     "output_type": "display_data"
    },
    {
     "data": {
      "application/vnd.jupyter.widget-view+json": {
       "model_id": "1adb7ab51c3d479fb6dc01ce724b1c8d",
       "version_major": 2,
       "version_minor": 0
      },
      "text/plain": [
       "LAS3-000000.tdat:   0%|          | 0.00/6.86M [00:00<?, ?B/s]"
      ]
     },
     "metadata": {},
     "output_type": "display_data"
    },
    {
     "data": {
      "application/vnd.jupyter.widget-view+json": {
       "model_id": "377478d225f440d895c033b8404616d4",
       "version_major": 2,
       "version_minor": 0
      },
      "text/plain": [
       "LAS3-000000.tidx:   0%|          | 0.00/219k [00:00<?, ?B/s]"
      ]
     },
     "metadata": {},
     "output_type": "display_data"
    },
    {
     "data": {
      "application/vnd.jupyter.widget-view+json": {
       "model_id": "ee9228f23ba94c3b842da22f4c71df43",
       "version_major": 2,
       "version_minor": 0
      },
      "text/plain": [
       "LAS4-000000.tdat:   0%|          | 0.00/6.63M [00:00<?, ?B/s]"
      ]
     },
     "metadata": {},
     "output_type": "display_data"
    },
    {
     "data": {
      "application/vnd.jupyter.widget-view+json": {
       "model_id": "cc68f8cc9f954922afd3b925c6230836",
       "version_major": 2,
       "version_minor": 0
      },
      "text/plain": [
       "LAS3-000000.tmet:   0%|          | 0.00/16.0k [00:00<?, ?B/s]"
      ]
     },
     "metadata": {},
     "output_type": "display_data"
    },
    {
     "data": {
      "application/vnd.jupyter.widget-view+json": {
       "model_id": "e7110a7af241477289b8bb99c9c44664",
       "version_major": 2,
       "version_minor": 0
      },
      "text/plain": [
       "LAS4-000000.tidx:   0%|          | 0.00/219k [00:00<?, ?B/s]"
      ]
     },
     "metadata": {},
     "output_type": "display_data"
    },
    {
     "data": {
      "application/vnd.jupyter.widget-view+json": {
       "model_id": "f1f705f52052414a9c43e14afeb156c7",
       "version_major": 2,
       "version_minor": 0
      },
      "text/plain": [
       "LAS4-000000.tmet:   0%|          | 0.00/16.0k [00:00<?, ?B/s]"
      ]
     },
     "metadata": {},
     "output_type": "display_data"
    },
    {
     "data": {
      "application/vnd.jupyter.widget-view+json": {
       "model_id": "129a70ac0bbb4a7ead443c08fdf65889",
       "version_major": 2,
       "version_minor": 0
      },
      "text/plain": [
       "LMS1-000000.tmet:   0%|          | 0.00/16.0k [00:00<?, ?B/s]"
      ]
     },
     "metadata": {},
     "output_type": "display_data"
    },
    {
     "data": {
      "application/vnd.jupyter.widget-view+json": {
       "model_id": "b066463a02264a38a910d4d786de7381",
       "version_major": 2,
       "version_minor": 0
      },
      "text/plain": [
       "LMS1-000000.tdat:   0%|          | 0.00/6.86M [00:00<?, ?B/s]"
      ]
     },
     "metadata": {},
     "output_type": "display_data"
    },
    {
     "data": {
      "application/vnd.jupyter.widget-view+json": {
       "model_id": "ebe88f3161624fc698bc89e439ebc4de",
       "version_major": 2,
       "version_minor": 0
      },
      "text/plain": [
       "LMS1-000000.tidx:   0%|          | 0.00/219k [00:00<?, ?B/s]"
      ]
     },
     "metadata": {},
     "output_type": "display_data"
    },
    {
     "data": {
      "application/vnd.jupyter.widget-view+json": {
       "model_id": "81f35cc7396547798526a8d1eff6dabd",
       "version_major": 2,
       "version_minor": 0
      },
      "text/plain": [
       "LMS2-000000.tdat:   0%|          | 0.00/6.77M [00:00<?, ?B/s]"
      ]
     },
     "metadata": {},
     "output_type": "display_data"
    },
    {
     "data": {
      "application/vnd.jupyter.widget-view+json": {
       "model_id": "5441172269994c348c39b01bfdc2d206",
       "version_major": 2,
       "version_minor": 0
      },
      "text/plain": [
       "LMS2-000000.tidx:   0%|          | 0.00/219k [00:00<?, ?B/s]"
      ]
     },
     "metadata": {},
     "output_type": "display_data"
    },
    {
     "data": {
      "application/vnd.jupyter.widget-view+json": {
       "model_id": "a7e9b2bc67324cb895bc548888451eb9",
       "version_major": 2,
       "version_minor": 0
      },
      "text/plain": [
       "LMS3-000000.tidx:   0%|          | 0.00/219k [00:00<?, ?B/s]"
      ]
     },
     "metadata": {},
     "output_type": "display_data"
    },
    {
     "data": {
      "application/vnd.jupyter.widget-view+json": {
       "model_id": "eb02348423f74ea19b5d1cac0ced40ed",
       "version_major": 2,
       "version_minor": 0
      },
      "text/plain": [
       "LMS3-000000.tmet:   0%|          | 0.00/16.0k [00:00<?, ?B/s]"
      ]
     },
     "metadata": {},
     "output_type": "display_data"
    },
    {
     "data": {
      "application/vnd.jupyter.widget-view+json": {
       "model_id": "f0e39d7d393647c980fe1dfc98e57d1a",
       "version_major": 2,
       "version_minor": 0
      },
      "text/plain": [
       "LMS2-000000.tmet:   0%|          | 0.00/16.0k [00:00<?, ?B/s]"
      ]
     },
     "metadata": {},
     "output_type": "display_data"
    },
    {
     "data": {
      "application/vnd.jupyter.widget-view+json": {
       "model_id": "c0a8ac0a5ad54f2eacd120497eded417",
       "version_major": 2,
       "version_minor": 0
      },
      "text/plain": [
       "LMS3-000000.tdat:   0%|          | 0.00/6.88M [00:00<?, ?B/s]"
      ]
     },
     "metadata": {},
     "output_type": "display_data"
    },
    {
     "data": {
      "application/vnd.jupyter.widget-view+json": {
       "model_id": "c9e9628bb4bd4748a636d2ba24808e45",
       "version_major": 2,
       "version_minor": 0
      },
      "text/plain": [
       "LMS4-000000.tdat:   0%|          | 0.00/6.88M [00:00<?, ?B/s]"
      ]
     },
     "metadata": {},
     "output_type": "display_data"
    },
    {
     "data": {
      "application/vnd.jupyter.widget-view+json": {
       "model_id": "e08256d15b574e1688011941c435ffad",
       "version_major": 2,
       "version_minor": 0
      },
      "text/plain": [
       "LMS4-000000.tmet:   0%|          | 0.00/16.0k [00:00<?, ?B/s]"
      ]
     },
     "metadata": {},
     "output_type": "display_data"
    },
    {
     "data": {
      "application/vnd.jupyter.widget-view+json": {
       "model_id": "5aa3aa59fc6c411a863c9b57d06fcc09",
       "version_major": 2,
       "version_minor": 0
      },
      "text/plain": [
       "LMS4-000000.tidx:   0%|          | 0.00/219k [00:00<?, ?B/s]"
      ]
     },
     "metadata": {},
     "output_type": "display_data"
    },
    {
     "data": {
      "application/vnd.jupyter.widget-view+json": {
       "model_id": "",
       "version_major": 2,
       "version_minor": 0
      },
      "text/plain": [
       "LPD1-000000.tdat:   0%|          | 0.00/6.42M [00:00<?, ?B/s]"
      ]
     },
     "metadata": {},
     "output_type": "display_data"
    },
    {
     "data": {
      "application/vnd.jupyter.widget-view+json": {
       "model_id": "d1a4ec231bc14c4c82605733f8f3b466",
       "version_major": 2,
       "version_minor": 0
      },
      "text/plain": [
       "LPD1-000000.tidx:   0%|          | 0.00/219k [00:00<?, ?B/s]"
      ]
     },
     "metadata": {},
     "output_type": "display_data"
    },
    {
     "data": {
      "application/vnd.jupyter.widget-view+json": {
       "model_id": "3d70be25190045d6b8e9acc384e90767",
       "version_major": 2,
       "version_minor": 0
      },
      "text/plain": [
       "LPD1-000000.tmet:   0%|          | 0.00/16.0k [00:00<?, ?B/s]"
      ]
     },
     "metadata": {},
     "output_type": "display_data"
    },
    {
     "data": {
      "application/vnd.jupyter.widget-view+json": {
       "model_id": "",
       "version_major": 2,
       "version_minor": 0
      },
      "text/plain": [
       "LPD2-000000.tidx:   0%|          | 0.00/219k [00:00<?, ?B/s]"
      ]
     },
     "metadata": {},
     "output_type": "display_data"
    },
    {
     "data": {
      "application/vnd.jupyter.widget-view+json": {
       "model_id": "",
       "version_major": 2,
       "version_minor": 0
      },
      "text/plain": [
       "LPD2-000000.tdat:   0%|          | 0.00/6.40M [00:00<?, ?B/s]"
      ]
     },
     "metadata": {},
     "output_type": "display_data"
    },
    {
     "data": {
      "application/vnd.jupyter.widget-view+json": {
       "model_id": "",
       "version_major": 2,
       "version_minor": 0
      },
      "text/plain": [
       "LPD2-000000.tmet:   0%|          | 0.00/16.0k [00:00<?, ?B/s]"
      ]
     },
     "metadata": {},
     "output_type": "display_data"
    },
    {
     "data": {
      "application/vnd.jupyter.widget-view+json": {
       "model_id": "",
       "version_major": 2,
       "version_minor": 0
      },
      "text/plain": [
       "LPD3-000000.tdat:   0%|          | 0.00/6.50M [00:00<?, ?B/s]"
      ]
     },
     "metadata": {},
     "output_type": "display_data"
    },
    {
     "data": {
      "application/vnd.jupyter.widget-view+json": {
       "model_id": "",
       "version_major": 2,
       "version_minor": 0
      },
      "text/plain": [
       "LPD3-000000.tidx:   0%|          | 0.00/219k [00:00<?, ?B/s]"
      ]
     },
     "metadata": {},
     "output_type": "display_data"
    },
    {
     "data": {
      "application/vnd.jupyter.widget-view+json": {
       "model_id": "",
       "version_major": 2,
       "version_minor": 0
      },
      "text/plain": [
       "LPD4-000000.tdat:   0%|          | 0.00/6.42M [00:00<?, ?B/s]"
      ]
     },
     "metadata": {},
     "output_type": "display_data"
    },
    {
     "data": {
      "application/vnd.jupyter.widget-view+json": {
       "model_id": "",
       "version_major": 2,
       "version_minor": 0
      },
      "text/plain": [
       "LPD3-000000.tmet:   0%|          | 0.00/16.0k [00:00<?, ?B/s]"
      ]
     },
     "metadata": {},
     "output_type": "display_data"
    },
    {
     "data": {
      "application/vnd.jupyter.widget-view+json": {
       "model_id": "",
       "version_major": 2,
       "version_minor": 0
      },
      "text/plain": [
       "LPD4-000000.tidx:   0%|          | 0.00/219k [00:00<?, ?B/s]"
      ]
     },
     "metadata": {},
     "output_type": "display_data"
    },
    {
     "data": {
      "application/vnd.jupyter.widget-view+json": {
       "model_id": "",
       "version_major": 2,
       "version_minor": 0
      },
      "text/plain": [
       "LPD4-000000.tmet:   0%|          | 0.00/16.0k [00:00<?, ?B/s]"
      ]
     },
     "metadata": {},
     "output_type": "display_data"
    },
    {
     "data": {
      "application/vnd.jupyter.widget-view+json": {
       "model_id": "",
       "version_major": 2,
       "version_minor": 0
      },
      "text/plain": [
       "LPS1-000000.tidx:   0%|          | 0.00/219k [00:00<?, ?B/s]"
      ]
     },
     "metadata": {},
     "output_type": "display_data"
    },
    {
     "data": {
      "application/vnd.jupyter.widget-view+json": {
       "model_id": "",
       "version_major": 2,
       "version_minor": 0
      },
      "text/plain": [
       "LPS1-000000.tdat:   0%|          | 0.00/7.18M [00:00<?, ?B/s]"
      ]
     },
     "metadata": {},
     "output_type": "display_data"
    },
    {
     "data": {
      "application/vnd.jupyter.widget-view+json": {
       "model_id": "",
       "version_major": 2,
       "version_minor": 0
      },
      "text/plain": [
       "LPS2-000000.tdat:   0%|          | 0.00/6.93M [00:00<?, ?B/s]"
      ]
     },
     "metadata": {},
     "output_type": "display_data"
    },
    {
     "data": {
      "application/vnd.jupyter.widget-view+json": {
       "model_id": "",
       "version_major": 2,
       "version_minor": 0
      },
      "text/plain": [
       "LPS1-000000.tmet:   0%|          | 0.00/16.0k [00:00<?, ?B/s]"
      ]
     },
     "metadata": {},
     "output_type": "display_data"
    },
    {
     "data": {
      "application/vnd.jupyter.widget-view+json": {
       "model_id": "",
       "version_major": 2,
       "version_minor": 0
      },
      "text/plain": [
       "LPS2-000000.tidx:   0%|          | 0.00/219k [00:00<?, ?B/s]"
      ]
     },
     "metadata": {},
     "output_type": "display_data"
    },
    {
     "data": {
      "application/vnd.jupyter.widget-view+json": {
       "model_id": "",
       "version_major": 2,
       "version_minor": 0
      },
      "text/plain": [
       "LPS2-000000.tmet:   0%|          | 0.00/16.0k [00:00<?, ?B/s]"
      ]
     },
     "metadata": {},
     "output_type": "display_data"
    },
    {
     "data": {
      "application/vnd.jupyter.widget-view+json": {
       "model_id": "",
       "version_major": 2,
       "version_minor": 0
      },
      "text/plain": [
       "LPS3-000000.tidx:   0%|          | 0.00/219k [00:00<?, ?B/s]"
      ]
     },
     "metadata": {},
     "output_type": "display_data"
    },
    {
     "data": {
      "application/vnd.jupyter.widget-view+json": {
       "model_id": "",
       "version_major": 2,
       "version_minor": 0
      },
      "text/plain": [
       "LPS3-000000.tdat:   0%|          | 0.00/7.07M [00:00<?, ?B/s]"
      ]
     },
     "metadata": {},
     "output_type": "display_data"
    },
    {
     "data": {
      "application/vnd.jupyter.widget-view+json": {
       "model_id": "",
       "version_major": 2,
       "version_minor": 0
      },
      "text/plain": [
       "LPS3-000000.tmet:   0%|          | 0.00/16.0k [00:00<?, ?B/s]"
      ]
     },
     "metadata": {},
     "output_type": "display_data"
    },
    {
     "data": {
      "application/vnd.jupyter.widget-view+json": {
       "model_id": "",
       "version_major": 2,
       "version_minor": 0
      },
      "text/plain": [
       "LPS4-000000.tidx:   0%|          | 0.00/219k [00:00<?, ?B/s]"
      ]
     },
     "metadata": {},
     "output_type": "display_data"
    },
    {
     "data": {
      "application/vnd.jupyter.widget-view+json": {
       "model_id": "",
       "version_major": 2,
       "version_minor": 0
      },
      "text/plain": [
       "LPS4-000000.tdat:   0%|          | 0.00/7.04M [00:00<?, ?B/s]"
      ]
     },
     "metadata": {},
     "output_type": "display_data"
    },
    {
     "data": {
      "application/vnd.jupyter.widget-view+json": {
       "model_id": "",
       "version_major": 2,
       "version_minor": 0
      },
      "text/plain": [
       "LPS4-000000.tmet:   0%|          | 0.00/16.0k [00:00<?, ?B/s]"
      ]
     },
     "metadata": {},
     "output_type": "display_data"
    },
    {
     "data": {
      "application/vnd.jupyter.widget-view+json": {
       "model_id": "",
       "version_major": 2,
       "version_minor": 0
      },
      "text/plain": [
       "LSD1-000000.tidx:   0%|          | 0.00/219k [00:00<?, ?B/s]"
      ]
     },
     "metadata": {},
     "output_type": "display_data"
    },
    {
     "data": {
      "application/vnd.jupyter.widget-view+json": {
       "model_id": "",
       "version_major": 2,
       "version_minor": 0
      },
      "text/plain": [
       "LSD1-000000.tdat:   0%|          | 0.00/6.30M [00:00<?, ?B/s]"
      ]
     },
     "metadata": {},
     "output_type": "display_data"
    },
    {
     "data": {
      "application/vnd.jupyter.widget-view+json": {
       "model_id": "",
       "version_major": 2,
       "version_minor": 0
      },
      "text/plain": [
       "LSD1-000000.tmet:   0%|          | 0.00/16.0k [00:00<?, ?B/s]"
      ]
     },
     "metadata": {},
     "output_type": "display_data"
    },
    {
     "data": {
      "application/vnd.jupyter.widget-view+json": {
       "model_id": "",
       "version_major": 2,
       "version_minor": 0
      },
      "text/plain": [
       "LSD2-000000.tmet:   0%|          | 0.00/16.0k [00:00<?, ?B/s]"
      ]
     },
     "metadata": {},
     "output_type": "display_data"
    },
    {
     "data": {
      "application/vnd.jupyter.widget-view+json": {
       "model_id": "",
       "version_major": 2,
       "version_minor": 0
      },
      "text/plain": [
       "LSD2-000000.tidx:   0%|          | 0.00/219k [00:00<?, ?B/s]"
      ]
     },
     "metadata": {},
     "output_type": "display_data"
    },
    {
     "data": {
      "application/vnd.jupyter.widget-view+json": {
       "model_id": "",
       "version_major": 2,
       "version_minor": 0
      },
      "text/plain": [
       "LSD2-000000.tdat:   0%|          | 0.00/6.36M [00:00<?, ?B/s]"
      ]
     },
     "metadata": {},
     "output_type": "display_data"
    },
    {
     "data": {
      "application/vnd.jupyter.widget-view+json": {
       "model_id": "",
       "version_major": 2,
       "version_minor": 0
      },
      "text/plain": [
       "LSD3-000000.tidx:   0%|          | 0.00/219k [00:00<?, ?B/s]"
      ]
     },
     "metadata": {},
     "output_type": "display_data"
    },
    {
     "data": {
      "application/vnd.jupyter.widget-view+json": {
       "model_id": "",
       "version_major": 2,
       "version_minor": 0
      },
      "text/plain": [
       "LSD3-000000.tmet:   0%|          | 0.00/16.0k [00:00<?, ?B/s]"
      ]
     },
     "metadata": {},
     "output_type": "display_data"
    },
    {
     "data": {
      "application/vnd.jupyter.widget-view+json": {
       "model_id": "7a8f0765a8734e41bf1724f780072f42",
       "version_major": 2,
       "version_minor": 0
      },
      "text/plain": [
       "LSD3-000000.tdat:   0%|          | 0.00/6.29M [00:00<?, ?B/s]"
      ]
     },
     "metadata": {},
     "output_type": "display_data"
    },
    {
     "data": {
      "application/vnd.jupyter.widget-view+json": {
       "model_id": "",
       "version_major": 2,
       "version_minor": 0
      },
      "text/plain": [
       "LSD4-000000.tidx:   0%|          | 0.00/219k [00:00<?, ?B/s]"
      ]
     },
     "metadata": {},
     "output_type": "display_data"
    },
    {
     "data": {
      "application/vnd.jupyter.widget-view+json": {
       "model_id": "",
       "version_major": 2,
       "version_minor": 0
      },
      "text/plain": [
       "LSD4-000000.tdat:   0%|          | 0.00/6.39M [00:00<?, ?B/s]"
      ]
     },
     "metadata": {},
     "output_type": "display_data"
    },
    {
     "data": {
      "application/vnd.jupyter.widget-view+json": {
       "model_id": "",
       "version_major": 2,
       "version_minor": 0
      },
      "text/plain": [
       "LSD4-000000.tmet:   0%|          | 0.00/16.0k [00:00<?, ?B/s]"
      ]
     },
     "metadata": {},
     "output_type": "display_data"
    },
    {
     "data": {
      "application/vnd.jupyter.widget-view+json": {
       "model_id": "",
       "version_major": 2,
       "version_minor": 0
      },
      "text/plain": [
       "LTG1-000000.tdat:   0%|          | 0.00/6.91M [00:00<?, ?B/s]"
      ]
     },
     "metadata": {},
     "output_type": "display_data"
    },
    {
     "data": {
      "application/vnd.jupyter.widget-view+json": {
       "model_id": "",
       "version_major": 2,
       "version_minor": 0
      },
      "text/plain": [
       "LTG1-000000.tidx:   0%|          | 0.00/219k [00:00<?, ?B/s]"
      ]
     },
     "metadata": {},
     "output_type": "display_data"
    },
    {
     "data": {
      "application/vnd.jupyter.widget-view+json": {
       "model_id": "",
       "version_major": 2,
       "version_minor": 0
      },
      "text/plain": [
       "LTG1-000000.tmet:   0%|          | 0.00/16.0k [00:00<?, ?B/s]"
      ]
     },
     "metadata": {},
     "output_type": "display_data"
    },
    {
     "data": {
      "application/vnd.jupyter.widget-view+json": {
       "model_id": "",
       "version_major": 2,
       "version_minor": 0
      },
      "text/plain": [
       "LTG10-000000.tdat:   0%|          | 0.00/6.88M [00:00<?, ?B/s]"
      ]
     },
     "metadata": {},
     "output_type": "display_data"
    },
    {
     "data": {
      "application/vnd.jupyter.widget-view+json": {
       "model_id": "",
       "version_major": 2,
       "version_minor": 0
      },
      "text/plain": [
       "LTG10-000000.tidx:   0%|          | 0.00/219k [00:00<?, ?B/s]"
      ]
     },
     "metadata": {},
     "output_type": "display_data"
    },
    {
     "data": {
      "application/vnd.jupyter.widget-view+json": {
       "model_id": "",
       "version_major": 2,
       "version_minor": 0
      },
      "text/plain": [
       "LTG10-000000.tmet:   0%|          | 0.00/16.0k [00:00<?, ?B/s]"
      ]
     },
     "metadata": {},
     "output_type": "display_data"
    },
    {
     "data": {
      "application/vnd.jupyter.widget-view+json": {
       "model_id": "",
       "version_major": 2,
       "version_minor": 0
      },
      "text/plain": [
       "LTG11-000000.tdat:   0%|          | 0.00/6.87M [00:00<?, ?B/s]"
      ]
     },
     "metadata": {},
     "output_type": "display_data"
    },
    {
     "data": {
      "application/vnd.jupyter.widget-view+json": {
       "model_id": "",
       "version_major": 2,
       "version_minor": 0
      },
      "text/plain": [
       "LTG11-000000.tidx:   0%|          | 0.00/219k [00:00<?, ?B/s]"
      ]
     },
     "metadata": {},
     "output_type": "display_data"
    },
    {
     "data": {
      "application/vnd.jupyter.widget-view+json": {
       "model_id": "",
       "version_major": 2,
       "version_minor": 0
      },
      "text/plain": [
       "LTG11-000000.tmet:   0%|          | 0.00/16.0k [00:00<?, ?B/s]"
      ]
     },
     "metadata": {},
     "output_type": "display_data"
    },
    {
     "data": {
      "application/vnd.jupyter.widget-view+json": {
       "model_id": "1c1a675ed1ed4c3aa2e2c7c6207037bc",
       "version_major": 2,
       "version_minor": 0
      },
      "text/plain": [
       "LTG12-000000.tdat:   0%|          | 0.00/7.11M [00:00<?, ?B/s]"
      ]
     },
     "metadata": {},
     "output_type": "display_data"
    },
    {
     "data": {
      "application/vnd.jupyter.widget-view+json": {
       "model_id": "",
       "version_major": 2,
       "version_minor": 0
      },
      "text/plain": [
       "LTG12-000000.tidx:   0%|          | 0.00/219k [00:00<?, ?B/s]"
      ]
     },
     "metadata": {},
     "output_type": "display_data"
    }
   ],
   "source": [
    "xy, im = mne.viz.snapshot_brain_montage(fig, raw.info)\n",
    "fig, ax = plt.subplots()\n",
    "ax.axis('off')\n",
    "ax.imshow(im)\n",
    "for name, pos in xy.items():\n",
    "    if pos[0] >= 0 and pos[1] >= 0:  # no NaN locations\n",
    "        ax.text(*pos, name, ha='center', va='center', fontsize=4)\n",
    "\n",
    "events, event_id = mne.events_from_annotations(raw)\n",
    "mne.viz.plot_events(events, raw.info['sfreq'], event_id=event_id, show=False)\n",
    "\n",
    "# %%\n",
    "# Create epochs around stimulation, visualize data.\n",
    "contact = 'LMS2'\n",
    "tmin, tmax = -1, 2\n",
    "bl_tmin, bl_tmax = -0.5, -0.05\n",
    "\n",
    "# try ``baseline=None`` for no baseline correction to play around\n",
    "metadata = pd.read_csv(path.update(suffix='events'), sep='\\t')\n",
    "keep = metadata.trial_type == 'electrical_stimulation'\n",
    "if 'status' in metadata:\n",
    "    keep = np.logical_and(keep, metadata.status == 'good')\n",
    "metadata = metadata[keep]\n",
    "epochs = mne.Epochs(raw, events[keep],\n",
    "                    tmin=tmin, tmax=tmax,\n",
    "                    baseline=(bl_tmin, bl_tmax), picks=[contact],\n",
    "                    preload=True)\n",
    "epochs.metadata = metadata  # contains stimulation location information\n",
    "\n",
    "# unpack each pair separated by a hyphen, only use trials where\n",
    "# stimulation was delivered to channels other than the channel of\n",
    "# interest\n",
    "epochs.metadata['site1'], epochs.metadata['site2'] = np.array([\n",
    "    sites.split('-') for sites in\n",
    "    epochs.metadata.electrical_stimulation_site]).T\n",
    "exclude = np.in1d(epochs.metadata.site1, contact) | \\\n",
    "    np.in1d(epochs.metadata.site2, contact)\n",
    "epochs = epochs[~exclude]\n",
    "\n",
    "epochs.plot_image(picks=[contact], cmap='viridis', vmin=-250, vmax=250)\n",
    "\n",
    "# %%\n",
    "# Calculate BPCs.\n",
    "bpc_tmin, bpc_tmax = 0.015, 1\n",
    "\n",
    "stim_sites = epochs.metadata.electrical_stimulation_site\n",
    "V = epochs.get_data(tmin=bpc_tmin, tmax=bpc_tmax)[:, 0]  # select only channel\n",
    "times = epochs.times[(epochs.times >= bpc_tmin) & (epochs.times <= bpc_tmax)]\n",
    "V0 = V / np.linalg.norm(V, axis=1)[:, None]  # L2 norm each trial\n",
    "P = V0 @ V.T  # calculate internal projections\n",
    "\n",
    "pairs = np.array(sorted(np.unique(stim_sites)))\n",
    "tmat = np.zeros((len(pairs), len(pairs)))\n",
    "for i, pair1 in enumerate(pairs):\n",
    "    for j, pair2 in enumerate(pairs):\n",
    "        b = P[np.ix_(stim_sites == pair1, stim_sites == pair2)]\n",
    "        if i == j:  # subset without diagonal\n",
    "            b = np.concatenate([b[np.tril_indices(b.shape[0], k=-1)],\n",
    "                                b[np.triu_indices(b.shape[0], k=1)]])\n",
    "        b = b.ravel()\n",
    "        tmat[i, j] = np.mean(b) * np.sqrt(len(b)) / np.std(b, ddof=1)\n",
    "\n",
    "fig, ax = plt.subplots()\n",
    "img = ax.imshow(tmat, vmin=0, vmax=10)\n",
    "ax.set_xticks(range(tmat.shape[0]))\n",
    "ax.set_xticklabels(pairs, rotation=90, fontsize=6)\n",
    "ax.set_xlabel('Stimulation Pair')\n",
    "ax.set_yticks(range(tmat.shape[0]))\n",
    "ax.set_yticklabels(pairs, fontsize=6)\n",
    "ax.set_ylabel('Stimulation Pair')\n",
    "ax.set_title(r'Significance Matrix $\\Xi$', fontsize=15)\n",
    "fig.colorbar(img, ax=ax)\n",
    "fig.subplots_adjust(bottom=0.2)\n",
    "fig.show()\n",
    "\n",
    "\n",
    "t0 = tmat.copy()\n",
    "t0[t0 < 0] = 0\n",
    "t0[np.isnan(t0)] = 0\n",
    "t0 /= (np.max(t0))\n",
    "\n",
    "cluster_dim = 9\n",
    "n_reruns = 20\n",
    "tol = 1e-5\n",
    "random_state = 11\n",
    "for n_components in range(cluster_dim, 1, -1):\n",
    "    this_error = None\n",
    "    for k in range(n_reruns):\n",
    "        model = NMF(n_components=n_components, init='random', solver='mu',\n",
    "                    tol=tol, max_iter=10000, random_state=random_state).fit(t0)\n",
    "        if this_error is None or model.reconstruction_err_ < this_error:\n",
    "            this_error = model.reconstruction_err_\n",
    "            W = model.transform(t0)\n",
    "            H = model.components_\n",
    "    H /= np.linalg.norm(H, axis=1)[:, None]\n",
    "    nmf_penalty = np.triu(H @ H.T, k=1).sum()\n",
    "    print(f'Inner dimension: {n_components}, off diagonal score: {nmf_penalty}')\n",
    "    if nmf_penalty < 1:\n",
    "        break\n",
    "\n",
    "\n",
    "# %%\n",
    "# find stimulation trials for every BPC\n",
    "def kpca(X):\n",
    "    F, S, _ = np.linalg.svd(X.T)  # Compute the eigenvalues and right eigenvectors\n",
    "    ES = X @ F  # kernel trick\n",
    "    # divide through to obtain unit-normalized eigenvectors\n",
    "    E = ES / (np.ones((X.shape[0], 1)) @ S[None])\n",
    "    return E\n",
    "\n",
    "\n",
    "# find significant pairs per BPC; must be > threshold and greater than other BPCs\n",
    "bpc_pairs = np.zeros((len(pairs))) * np.nan  # index of bpc\n",
    "Bs = np.zeros((n_components, V.shape[1]))  # n_BPCs x n_times\n",
    "for bpc_idx in range(n_components):  # loop over BPCs\n",
    "    bpc_pair_idxs = np.where((H[bpc_idx] == np.max(H, axis=0)) &\n",
    "                             (H[bpc_idx] > 1 / (2 * np.sqrt(len(pairs)))))[0]\n",
    "    bpc_pairs[bpc_pair_idxs] = bpc_idx\n",
    "    bpc_trials = np.concatenate([np.where(stim_sites == pairs[idx])[0]\n",
    "                                 for idx in bpc_pair_idxs])\n",
    "    Bs[bpc_idx] = kpca(V[bpc_trials].T)[:, 0]  # basis vector is 1st PC\n",
    "    if np.mean(Bs[bpc_idx] @ V[bpc_trials].T) < 0:\n",
    "        Bs[bpc_idx] *= -1  # sign flip\n",
    "    print(bpc_idx, bpc_pair_idxs)\n",
    "excluded_pairs = pairs[np.isnan(bpc_pairs)]\n",
    "\n",
    "# %%\n",
    "# plot BPCs\n",
    "colors = cm.tab10(np.linspace(0, 1, 10))\n",
    "\n",
    "fig, ax = plt.subplots(figsize=(5, 4))\n",
    "for i, bpc in enumerate(Bs):\n",
    "    ax.plot(times, bpc, color=colors[i], label=i)\n",
    "ax.set_xlabel('Time from stimulation (s)')\n",
    "ax.set_ylabel('Normalized weight of BPCs')\n",
    "ax.set_title('Calculated BPCs', fontsize=15)\n",
    "ax.legend()\n",
    "fig.tight_layout()\n",
    "fig.show()\n",
    "\n",
    "# %%\n",
    "# curve statistics\n",
    "alphas = np.zeros((len(stim_sites))) * np.nan\n",
    "epsilon2s = np.zeros((len(stim_sites))) * np.nan\n",
    "V2s = np.zeros((len(stim_sites))) * np.nan\n",
    "errxprojs = np.zeros((len(pairs))) * np.nan\n",
    "p_vals = np.zeros((len(pairs))) * np.nan\n",
    "plotweights = np.zeros((len(pairs))) * np.nan\n",
    "for bpc_idx in range(n_components):  # loop over BPCs\n",
    "    # alpha coefficient weights for basis curve into V\n",
    "    bpc_alphas = Bs[bpc_idx] @ V.T\n",
    "    # residual epsilon (error timeseries) for basis bb after alpha*B coefficient fit\n",
    "    bpc_epsilon2 = V - (Bs[bpc_idx][:, None] @ bpc_alphas[None]).T\n",
    "    errxproj = bpc_epsilon2  @ bpc_epsilon2.T  # calculate all projections of error\n",
    "    V_selfproj = V @ V.T  # power in each trial\n",
    "\n",
    "    # cycle through pair types represented by this basis curve\n",
    "    for pair_idx in np.where(bpc_pairs == bpc_idx)[0]:\n",
    "        trials = stim_sites == pairs[pair_idx]\n",
    "        # alpha coefficient weights for basis curve bb into V\n",
    "        alphas[trials] = bpc_alphas[trials]\n",
    "        # self-submatrix of error projections\n",
    "        a = errxproj[np.ix_(trials, trials)]\n",
    "        epsilon2s[trials] = np.diag(a)\n",
    "        # sum-squared individual trials\n",
    "        V2s[trials] = np.diag(V_selfproj[np.ix_(trials, trials)])\n",
    "\n",
    "        # gather all off-diagonal elements from self-submatrix\n",
    "        b = np.concatenate([a[np.tril_indices(a.shape[0], k=-1)],\n",
    "                            a[np.triu_indices(a.shape[0], k=1)]])\n",
    "\n",
    "        # systematic residual structure within a stim pair group for a given basis will be\n",
    "        # given by set of native normalized internal cross-projections\n",
    "        errxproj[pair_idx] = np.mean(b) * np.sqrt(len(b)) / np.std(b, ddof=1)\n",
    "\n",
    "        plotweights[pair_idx] = np.mean(alphas[trials] / np.sqrt(epsilon2s[trials]))\n",
    "        T_stat, p_val = stats.ttest_1samp((alphas[trials] / np.sqrt(epsilon2s[trials])), 0)\n",
    "        p_vals[pair_idx] = p_val\n",
    "\n",
    "\n",
    "# %%\n",
    "# Plot the final results.\n",
    "\n",
    "colors = cm.tab10(np.linspace(0, 1, 10))\n",
    "\n",
    "fig, ax = plt.subplots()\n",
    "ax.axis('off')\n",
    "ax.imshow(im)\n",
    "for i, name in enumerate(pairs):\n",
    "    if np.isnan(bpc_pairs[i]):\n",
    "        continue\n",
    "    ch0, ch1 = name.split('-')\n",
    "    pos = (xy[ch0] + xy[ch1]) / 2\n",
    "    if pos[0] < 0 or pos[0] > im.shape[0] or pos[1] < 0 or pos[1] > im.shape[1]:\n",
    "        continue\n",
    "    color = colors[int(bpc_pairs[i])]\n",
    "    size = plotweights[i] * 200\n",
    "    ax.scatter(*pos, color=color[:3], s=[size], alpha=0.75)\n",
    "\n",
    "fig.show()"
   ]
  },
  {
   "cell_type": "code",
   "execution_count": null,
   "metadata": {},
   "outputs": [],
   "source": []
  }
 ],
 "metadata": {
  "kernelspec": {
   "display_name": "Python 3 (ipykernel)",
   "language": "python",
   "name": "python3"
  },
  "language_info": {
   "codemirror_mode": {
    "name": "ipython",
    "version": 3
   },
   "file_extension": ".py",
   "mimetype": "text/x-python",
   "name": "python",
   "nbconvert_exporter": "python",
   "pygments_lexer": "ipython3",
   "version": "3.10.14"
  }
 },
 "nbformat": 4,
 "nbformat_minor": 4
}
