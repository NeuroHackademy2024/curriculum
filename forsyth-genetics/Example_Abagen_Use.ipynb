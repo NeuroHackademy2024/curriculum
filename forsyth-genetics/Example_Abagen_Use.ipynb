{
 "cells": [
  {
   "cell_type": "code",
   "execution_count": null,
   "id": "7666491b-8d3f-4b39-be9d-6cfb602e3b2d",
   "metadata": {},
   "outputs": [],
   "source": [
    "# #Install abagen using most up-to-date version from github\n",
    "# !git clone https://github.com/rmarkello/abagen.git\n",
    "# !pip install ./abagen"
   ]
  },
  {
   "cell_type": "code",
   "execution_count": null,
   "id": "309b1d88-e3a1-4c49-a1c5-8f4246f4f252",
   "metadata": {},
   "outputs": [],
   "source": [
    "#load abagen toolbox\n",
    "import abagen"
   ]
  },
  {
   "cell_type": "code",
   "execution_count": null,
   "id": "b0f40d2d-b833-4ea4-a390-062a0c0c2da3",
   "metadata": {},
   "outputs": [],
   "source": [
    "#Download AHBA microarray data\n",
    "files = abagen.fetch_microarray(donors='all',data_dir=\"/home/jovyan/shared/abagen-data\")"
   ]
  },
  {
   "cell_type": "code",
   "execution_count": null,
   "id": "09fbb62b-bd10-46ac-b8aa-b6e7688476a3",
   "metadata": {},
   "outputs": [],
   "source": [
    "#Print to screen files object to check what's there, should show gene expression data .csv files for 6 donors\n",
    "files"
   ]
  },
  {
   "cell_type": "code",
   "execution_count": null,
   "id": "9fe80e52-f920-4f4f-ad0f-9b32e9dbd023",
   "metadata": {},
   "outputs": [],
   "source": [
    "#Specify atlas for abagen to use to be surface version of Desikan-Killiany atlas and view names of files specified for use\n",
    "atlas = abagen.fetch_desikan_killiany(surface=True)\n",
    "atlas['image']"
   ]
  },
  {
   "cell_type": "code",
   "execution_count": null,
   "id": "369019bb-ab3d-4b90-bffb-06cbbfb928b4",
   "metadata": {},
   "outputs": [],
   "source": [
    "#Parcellate expression data into surface version of Desikan-Killiany Atlas\n",
    "expression = abagen.get_expression_data(atlas['image'], data_dir=\"/home/jovyan/shared/abagen-data\")"
   ]
  },
  {
   "cell_type": "code",
   "execution_count": null,
   "id": "31189fd3-1a9d-4bd7-b01b-385f9d507f6f",
   "metadata": {},
   "outputs": [],
   "source": [
    "#Print to screen contents of newly generated expression (panda.dataframe) object, should show regions as rows by gene as columns\n",
    "expression"
   ]
  },
  {
   "cell_type": "code",
   "execution_count": null,
   "id": "84b398fb-927e-44e2-a154-65bf64bcf454",
   "metadata": {},
   "outputs": [],
   "source": [
    "#Generate report of what parameters were used to process and parcellate microarray data\n",
    "from abagen import reporting\n",
    "generator = reporting.Report(atlas['image'], atlas['info'])\n",
    "report = generator.gen_report()"
   ]
  },
  {
   "cell_type": "code",
   "execution_count": null,
   "id": "62f97d8c-41f1-4c17-b1b8-37be0bcef2d1",
   "metadata": {},
   "outputs": [],
   "source": [
    "#Print report content to screen\n",
    "report"
   ]
  },
  {
   "cell_type": "code",
   "execution_count": null,
   "id": "39cfcd88-7b03-491e-b1ba-fb92fcbc4bab",
   "metadata": {},
   "outputs": [],
   "source": [
    "#Display report cleanly with LaTeX\n",
    "from IPython.display import display, Markdown\n",
    "display(Markdown(report))"
   ]
  },
  {
   "cell_type": "code",
   "execution_count": null,
   "id": "7e2f6ccf-f9a4-4737-b53d-1dcc0bb3eab0",
   "metadata": {},
   "outputs": [],
   "source": [
    "#Check what happens when data is re-parcellated to Desikan-Killiany surface atlas, with probe selection parameter changed to be mean max probe intensity \n",
    "#across donors instead of default setting, and generate report at the same time\n",
    "expression_maxprobe, report_maxprobe = abagen.get_expression_data(atlas['image'], atlas['info'], probe_selection='max_intensity', return_report=True)"
   ]
  },
  {
   "cell_type": "code",
   "execution_count": null,
   "id": "34060b5e-2cdf-4034-8e5e-baba6be50f8e",
   "metadata": {},
   "outputs": [],
   "source": [
    "#Print to screen contents of newly generated expression_maxprobe (panda.dataframe) object \n",
    "expression_maxprobe"
   ]
  },
  {
   "cell_type": "code",
   "execution_count": null,
   "id": "7af3bd47-7c73-4c9d-9b6e-1e9095d00b9b",
   "metadata": {},
   "outputs": [],
   "source": [
    "#Display report_maxprobe cleanly with LaTeX\n",
    "from IPython.display import display, Markdown\n",
    "display(Markdown(report_maxprobe))"
   ]
  },
  {
   "cell_type": "code",
   "execution_count": null,
   "id": "e0d463d9-ffcc-48c1-8a61-d2e886d31a18",
   "metadata": {},
   "outputs": [],
   "source": [
    "#Save expression pandas.dataframe as csv file for downstream analysis\n",
    "expression.to_csv('Expression_AHBA_abagen_defaultparam.csv', index=False)"
   ]
  },
  {
   "cell_type": "code",
   "execution_count": null,
   "id": "2299a378-64e6-471f-b740-625a1da140c8",
   "metadata": {},
   "outputs": [],
   "source": [
    "#Save expression_maxprobe pandas.dataframe as csv file for downstream analysis\n",
    "expression_maxprobe.to_csv('Expression_AHBA_abagen_maxprobe.csv', index=False)"
   ]
  },
  {
   "cell_type": "code",
   "execution_count": null,
   "id": "35adcc4e-c9ce-4d0b-af45-d11d9f3ca594",
   "metadata": {},
   "outputs": [],
   "source": [
    "#View info on DK atlas regions and copy to home directory\n",
    "!head /srv/conda/envs/notebook/lib/python3.10/site-packages/abagen/data/atlas-desikankilliany.csv\n",
    "!tail /srv/conda/envs/notebook/lib/python3.10/site-packages/abagen/data/atlas-desikankilliany.csv\n",
    "!cp /srv/conda/envs/notebook/lib/python3.10/site-packages/abagen/data/atlas-desikankilliany.csv ./atlas-desikankilliany_copy.csv"
   ]
  }
 ],
 "metadata": {
  "kernelspec": {
   "display_name": "Python 3 (ipykernel)",
   "language": "python",
   "name": "python3"
  },
  "language_info": {
   "codemirror_mode": {
    "name": "ipython",
    "version": 3
   },
   "file_extension": ".py",
   "mimetype": "text/x-python",
   "name": "python",
   "nbconvert_exporter": "python",
   "pygments_lexer": "ipython3",
   "version": "3.10.14"
  }
 },
 "nbformat": 4,
 "nbformat_minor": 5
}
