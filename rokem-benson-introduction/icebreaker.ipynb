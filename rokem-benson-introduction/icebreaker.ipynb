{
 "cells": [
  {
   "cell_type": "markdown",
   "id": "5c6bf7b7-3a4e-450b-be80-347f232596b3",
   "metadata": {},
   "source": [
    "# NeuroHackademy 2024 Icebreaker\n",
    "\n",
    "This icebreaker is designed to let people get to know each other (and Alder Hall) while pratcicing interacting with each other using the OWLs and zoom.\n",
    "\n",
    "**How it works:**\n",
    "* Every 7-8 minutes, we will announce that it is time to change rooms in the `#icebreakers` channel on Slack.\n",
    "* When this announcement arrives, please go to the next room on your list. If you are attending in-person, use the map below to find the appropriate room; if you are attending remotely, use the \"Zoom Room Links\" below to find your next zoom room.\n",
    "* After everyone has changed rooms, we will announce a topic question in the `#icebreakers` channel.  \n",
    "  *If you could have either telekinetic or telepathic abilities, which would you choose?*\n",
    "* Everyone in each room should go around answering the topic with a simple (~30 second) formula:  \n",
    "  \"**My name is** *Noah Benson*, **I am interested in** *human vision*, **and my answer is** *telepathy* **because** *I could use it to talk to my cats*.  \n",
    "  (Fill in the italics with your own responses!)\n",
    "\n",
    "You can get a list of rooms using the code-block below (click in the code-block then hold control and press enter;  \n",
    "if you are an in-person attendee please change `inperson = False` to `inperson = True` before you run it."
   ]
  },
  {
   "cell_type": "code",
   "execution_count": null,
   "id": "17f9a1a4-a60d-4679-b3e1-ea957237f3d1",
   "metadata": {},
   "outputs": [],
   "source": [
    "from icebreaker import get_rooms\n",
    "\n",
    "# If you are attending in-person, set this to True!\n",
    "inperson = False\n",
    "\n",
    "get_rooms(inperson=inperson)"
   ]
  },
  {
   "cell_type": "markdown",
   "id": "8b98cb45-403a-4b0e-b0db-a075250fedbc",
   "metadata": {},
   "source": [
    "If you are online, you will need this to find your rooms:  \n",
    "[Zoom Room Links](../../shared/info/zoom-links.html)\n",
    "\n",
    "\n",
    "If you are present in-person, see the map below!  \n",
    "![map of OWLs in Alder Hall](owlmap.png \"Map of OWLs in Alder Hall\")"
   ]
  }
 ],
 "metadata": {
  "kernelspec": {
   "display_name": "Python 3 (ipykernel)",
   "language": "python",
   "name": "python3"
  },
  "language_info": {
   "codemirror_mode": {
    "name": "ipython",
    "version": 3
   },
   "file_extension": ".py",
   "mimetype": "text/x-python",
   "name": "python",
   "nbconvert_exporter": "python",
   "pygments_lexer": "ipython3",
   "version": "3.10.14"
  }
 },
 "nbformat": 4,
 "nbformat_minor": 5
}
